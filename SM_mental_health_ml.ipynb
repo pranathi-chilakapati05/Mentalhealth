{
  "nbformat": 4,
  "nbformat_minor": 0,
  "metadata": {
    "colab": {
      "provenance": []
    },
    "kernelspec": {
      "name": "python3",
      "display_name": "Python 3"
    },
    "language_info": {
      "name": "python"
    }
  },
  "cells": [
    {
      "cell_type": "code",
      "execution_count": null,
      "metadata": {
        "colab": {
          "base_uri": "https://localhost:8080/"
        },
        "id": "OFInM5dSKRzA",
        "outputId": "ed197bfd-2b34-4f15-8a7c-1132b59d52be"
      },
      "outputs": [
        {
          "output_type": "stream",
          "name": "stdout",
          "text": [
            "Requirement already satisfied: gdown in /usr/local/lib/python3.10/dist-packages (4.7.3)\n",
            "Collecting gdown\n",
            "  Downloading gdown-5.1.0-py3-none-any.whl (17 kB)\n",
            "Requirement already satisfied: beautifulsoup4 in /usr/local/lib/python3.10/dist-packages (from gdown) (4.12.3)\n",
            "Requirement already satisfied: filelock in /usr/local/lib/python3.10/dist-packages (from gdown) (3.13.1)\n",
            "Requirement already satisfied: requests[socks] in /usr/local/lib/python3.10/dist-packages (from gdown) (2.31.0)\n",
            "Requirement already satisfied: tqdm in /usr/local/lib/python3.10/dist-packages (from gdown) (4.66.2)\n",
            "Requirement already satisfied: soupsieve>1.2 in /usr/local/lib/python3.10/dist-packages (from beautifulsoup4->gdown) (2.5)\n",
            "Requirement already satisfied: charset-normalizer<4,>=2 in /usr/local/lib/python3.10/dist-packages (from requests[socks]->gdown) (3.3.2)\n",
            "Requirement already satisfied: idna<4,>=2.5 in /usr/local/lib/python3.10/dist-packages (from requests[socks]->gdown) (3.6)\n",
            "Requirement already satisfied: urllib3<3,>=1.21.1 in /usr/local/lib/python3.10/dist-packages (from requests[socks]->gdown) (2.0.7)\n",
            "Requirement already satisfied: certifi>=2017.4.17 in /usr/local/lib/python3.10/dist-packages (from requests[socks]->gdown) (2024.2.2)\n",
            "Requirement already satisfied: PySocks!=1.5.7,>=1.5.6 in /usr/local/lib/python3.10/dist-packages (from requests[socks]->gdown) (1.7.1)\n",
            "Installing collected packages: gdown\n",
            "  Attempting uninstall: gdown\n",
            "    Found existing installation: gdown 4.7.3\n",
            "    Uninstalling gdown-4.7.3:\n",
            "      Successfully uninstalled gdown-4.7.3\n",
            "Successfully installed gdown-5.1.0\n",
            "Downloading...\n",
            "From: https://drive.google.com/uc?id=1URAiuFIPv58x5ksGHCudyxfp0rN4lPsy\n",
            "To: /content/smmh.csv\n",
            "100% 77.2k/77.2k [00:00<00:00, 44.0MB/s]\n",
            "Downloading...\n",
            "From: https://drive.google.com/uc?id=1v4VYTEbDQWj6aPbXUHzhBfUjktur3kLA\n",
            "To: /content/Student Mental health.csv\n",
            "100% 7.34k/7.34k [00:00<00:00, 15.3MB/s]\n"
          ]
        }
      ],
      "source": [
        "!rm -rf /content/sample_data\n",
        "!pip install --upgrade --no-cache-dir gdown\n",
        "\n",
        "#https://drive.google.com/file/d/1URAiuFIPv58x5ksGHCudyxfp0rN4lPsy/view?usp=sharing\n",
        "!gdown https://drive.google.com/uc?id=1URAiuFIPv58x5ksGHCudyxfp0rN4lPsy\n",
        "\n",
        "#https://drive.google.com/file/d/1v4VYTEbDQWj6aPbXUHzhBfUjktur3kLA/view?usp=sharing\n",
        "!gdown https://drive.google.com/uc?id=1v4VYTEbDQWj6aPbXUHzhBfUjktur3kLA"
      ]
    },
    {
      "cell_type": "code",
      "source": [
        "import pandas as pd\n",
        "df = pd.read_csv('/content/smmh.csv')\n",
        "df.head()"
      ],
      "metadata": {
        "colab": {
          "base_uri": "https://localhost:8080/",
          "height": 741
        },
        "id": "HPXl-e4oLAAP",
        "outputId": "c990386a-ed90-4e93-d898-e0f144fd74db"
      },
      "execution_count": null,
      "outputs": [
        {
          "output_type": "execute_result",
          "data": {
            "text/plain": [
              "            Timestamp  1. What is your age? 2. Gender 3. Relationship Status  \\\n",
              "0  4/18/2022 19:18:47                  21.0      Male      In a relationship   \n",
              "1  4/18/2022 19:19:28                  21.0    Female                 Single   \n",
              "2  4/18/2022 19:25:59                  21.0    Female                 Single   \n",
              "3  4/18/2022 19:29:43                  21.0    Female                 Single   \n",
              "4  4/18/2022 19:33:31                  21.0    Female                 Single   \n",
              "\n",
              "  4. Occupation Status 5. What type of organizations are you affiliated with?  \\\n",
              "0   University Student                                         University       \n",
              "1   University Student                                         University       \n",
              "2   University Student                                         University       \n",
              "3   University Student                                         University       \n",
              "4   University Student                                         University       \n",
              "\n",
              "  6. Do you use social media?  \\\n",
              "0                         Yes   \n",
              "1                         Yes   \n",
              "2                         Yes   \n",
              "3                         Yes   \n",
              "4                         Yes   \n",
              "\n",
              "  7. What social media platforms do you commonly use?  \\\n",
              "0  Facebook, Twitter, Instagram, YouTube, Discord...    \n",
              "1  Facebook, Twitter, Instagram, YouTube, Discord...    \n",
              "2            Facebook, Instagram, YouTube, Pinterest    \n",
              "3                                Facebook, Instagram    \n",
              "4                       Facebook, Instagram, YouTube    \n",
              "\n",
              "  8. What is the average time you spend on social media every day?  \\\n",
              "0                              Between 2 and 3 hours                 \n",
              "1                                  More than 5 hours                 \n",
              "2                              Between 3 and 4 hours                 \n",
              "3                                  More than 5 hours                 \n",
              "4                              Between 2 and 3 hours                 \n",
              "\n",
              "   9. How often do you find yourself using Social media without a specific purpose?  \\\n",
              "0                                                  5                                  \n",
              "1                                                  4                                  \n",
              "2                                                  3                                  \n",
              "3                                                  4                                  \n",
              "4                                                  3                                  \n",
              "\n",
              "   ...  11. Do you feel restless if you haven't used Social media in a while?  \\\n",
              "0  ...                                                  2                       \n",
              "1  ...                                                  2                       \n",
              "2  ...                                                  1                       \n",
              "3  ...                                                  1                       \n",
              "4  ...                                                  4                       \n",
              "\n",
              "   12. On a scale of 1 to 5, how easily distracted are you?  \\\n",
              "0                                                  5          \n",
              "1                                                  4          \n",
              "2                                                  2          \n",
              "3                                                  3          \n",
              "4                                                  4          \n",
              "\n",
              "   13. On a scale of 1 to 5, how much are you bothered by worries?  \\\n",
              "0                                                  2                 \n",
              "1                                                  5                 \n",
              "2                                                  5                 \n",
              "3                                                  5                 \n",
              "4                                                  5                 \n",
              "\n",
              "   14. Do you find it difficult to concentrate on things?  \\\n",
              "0                                                  5        \n",
              "1                                                  4        \n",
              "2                                                  4        \n",
              "3                                                  3        \n",
              "4                                                  5        \n",
              "\n",
              "   15. On a scale of 1-5, how often do you compare yourself to other successful people through the use of social media?  \\\n",
              "0                                                  2                                                                      \n",
              "1                                                  5                                                                      \n",
              "2                                                  3                                                                      \n",
              "3                                                  5                                                                      \n",
              "4                                                  3                                                                      \n",
              "\n",
              "   16. Following the previous question, how do you feel about these comparisons, generally speaking?  \\\n",
              "0                                                  3                                                   \n",
              "1                                                  1                                                   \n",
              "2                                                  3                                                   \n",
              "3                                                  1                                                   \n",
              "4                                                  3                                                   \n",
              "\n",
              "   17. How often do you look to seek validation from features of social media?  \\\n",
              "0                                                  2                             \n",
              "1                                                  1                             \n",
              "2                                                  1                             \n",
              "3                                                  2                             \n",
              "4                                                  3                             \n",
              "\n",
              "   18. How often do you feel depressed or down?  \\\n",
              "0                                             5   \n",
              "1                                             5   \n",
              "2                                             4   \n",
              "3                                             4   \n",
              "4                                             4   \n",
              "\n",
              "   19. On a scale of 1 to 5, how frequently does your interest in daily activities fluctuate?  \\\n",
              "0                                                  4                                            \n",
              "1                                                  4                                            \n",
              "2                                                  2                                            \n",
              "3                                                  3                                            \n",
              "4                                                  4                                            \n",
              "\n",
              "   20. On a scale of 1 to 5, how often do you face issues regarding sleep?  \n",
              "0                                                  5                        \n",
              "1                                                  5                        \n",
              "2                                                  5                        \n",
              "3                                                  2                        \n",
              "4                                                  1                        \n",
              "\n",
              "[5 rows x 21 columns]"
            ],
            "text/html": [
              "\n",
              "  <div id=\"df-44819fb6-7019-48dc-b06e-c21dcb0fd723\" class=\"colab-df-container\">\n",
              "    <div>\n",
              "<style scoped>\n",
              "    .dataframe tbody tr th:only-of-type {\n",
              "        vertical-align: middle;\n",
              "    }\n",
              "\n",
              "    .dataframe tbody tr th {\n",
              "        vertical-align: top;\n",
              "    }\n",
              "\n",
              "    .dataframe thead th {\n",
              "        text-align: right;\n",
              "    }\n",
              "</style>\n",
              "<table border=\"1\" class=\"dataframe\">\n",
              "  <thead>\n",
              "    <tr style=\"text-align: right;\">\n",
              "      <th></th>\n",
              "      <th>Timestamp</th>\n",
              "      <th>1. What is your age?</th>\n",
              "      <th>2. Gender</th>\n",
              "      <th>3. Relationship Status</th>\n",
              "      <th>4. Occupation Status</th>\n",
              "      <th>5. What type of organizations are you affiliated with?</th>\n",
              "      <th>6. Do you use social media?</th>\n",
              "      <th>7. What social media platforms do you commonly use?</th>\n",
              "      <th>8. What is the average time you spend on social media every day?</th>\n",
              "      <th>9. How often do you find yourself using Social media without a specific purpose?</th>\n",
              "      <th>...</th>\n",
              "      <th>11. Do you feel restless if you haven't used Social media in a while?</th>\n",
              "      <th>12. On a scale of 1 to 5, how easily distracted are you?</th>\n",
              "      <th>13. On a scale of 1 to 5, how much are you bothered by worries?</th>\n",
              "      <th>14. Do you find it difficult to concentrate on things?</th>\n",
              "      <th>15. On a scale of 1-5, how often do you compare yourself to other successful people through the use of social media?</th>\n",
              "      <th>16. Following the previous question, how do you feel about these comparisons, generally speaking?</th>\n",
              "      <th>17. How often do you look to seek validation from features of social media?</th>\n",
              "      <th>18. How often do you feel depressed or down?</th>\n",
              "      <th>19. On a scale of 1 to 5, how frequently does your interest in daily activities fluctuate?</th>\n",
              "      <th>20. On a scale of 1 to 5, how often do you face issues regarding sleep?</th>\n",
              "    </tr>\n",
              "  </thead>\n",
              "  <tbody>\n",
              "    <tr>\n",
              "      <th>0</th>\n",
              "      <td>4/18/2022 19:18:47</td>\n",
              "      <td>21.0</td>\n",
              "      <td>Male</td>\n",
              "      <td>In a relationship</td>\n",
              "      <td>University Student</td>\n",
              "      <td>University</td>\n",
              "      <td>Yes</td>\n",
              "      <td>Facebook, Twitter, Instagram, YouTube, Discord...</td>\n",
              "      <td>Between 2 and 3 hours</td>\n",
              "      <td>5</td>\n",
              "      <td>...</td>\n",
              "      <td>2</td>\n",
              "      <td>5</td>\n",
              "      <td>2</td>\n",
              "      <td>5</td>\n",
              "      <td>2</td>\n",
              "      <td>3</td>\n",
              "      <td>2</td>\n",
              "      <td>5</td>\n",
              "      <td>4</td>\n",
              "      <td>5</td>\n",
              "    </tr>\n",
              "    <tr>\n",
              "      <th>1</th>\n",
              "      <td>4/18/2022 19:19:28</td>\n",
              "      <td>21.0</td>\n",
              "      <td>Female</td>\n",
              "      <td>Single</td>\n",
              "      <td>University Student</td>\n",
              "      <td>University</td>\n",
              "      <td>Yes</td>\n",
              "      <td>Facebook, Twitter, Instagram, YouTube, Discord...</td>\n",
              "      <td>More than 5 hours</td>\n",
              "      <td>4</td>\n",
              "      <td>...</td>\n",
              "      <td>2</td>\n",
              "      <td>4</td>\n",
              "      <td>5</td>\n",
              "      <td>4</td>\n",
              "      <td>5</td>\n",
              "      <td>1</td>\n",
              "      <td>1</td>\n",
              "      <td>5</td>\n",
              "      <td>4</td>\n",
              "      <td>5</td>\n",
              "    </tr>\n",
              "    <tr>\n",
              "      <th>2</th>\n",
              "      <td>4/18/2022 19:25:59</td>\n",
              "      <td>21.0</td>\n",
              "      <td>Female</td>\n",
              "      <td>Single</td>\n",
              "      <td>University Student</td>\n",
              "      <td>University</td>\n",
              "      <td>Yes</td>\n",
              "      <td>Facebook, Instagram, YouTube, Pinterest</td>\n",
              "      <td>Between 3 and 4 hours</td>\n",
              "      <td>3</td>\n",
              "      <td>...</td>\n",
              "      <td>1</td>\n",
              "      <td>2</td>\n",
              "      <td>5</td>\n",
              "      <td>4</td>\n",
              "      <td>3</td>\n",
              "      <td>3</td>\n",
              "      <td>1</td>\n",
              "      <td>4</td>\n",
              "      <td>2</td>\n",
              "      <td>5</td>\n",
              "    </tr>\n",
              "    <tr>\n",
              "      <th>3</th>\n",
              "      <td>4/18/2022 19:29:43</td>\n",
              "      <td>21.0</td>\n",
              "      <td>Female</td>\n",
              "      <td>Single</td>\n",
              "      <td>University Student</td>\n",
              "      <td>University</td>\n",
              "      <td>Yes</td>\n",
              "      <td>Facebook, Instagram</td>\n",
              "      <td>More than 5 hours</td>\n",
              "      <td>4</td>\n",
              "      <td>...</td>\n",
              "      <td>1</td>\n",
              "      <td>3</td>\n",
              "      <td>5</td>\n",
              "      <td>3</td>\n",
              "      <td>5</td>\n",
              "      <td>1</td>\n",
              "      <td>2</td>\n",
              "      <td>4</td>\n",
              "      <td>3</td>\n",
              "      <td>2</td>\n",
              "    </tr>\n",
              "    <tr>\n",
              "      <th>4</th>\n",
              "      <td>4/18/2022 19:33:31</td>\n",
              "      <td>21.0</td>\n",
              "      <td>Female</td>\n",
              "      <td>Single</td>\n",
              "      <td>University Student</td>\n",
              "      <td>University</td>\n",
              "      <td>Yes</td>\n",
              "      <td>Facebook, Instagram, YouTube</td>\n",
              "      <td>Between 2 and 3 hours</td>\n",
              "      <td>3</td>\n",
              "      <td>...</td>\n",
              "      <td>4</td>\n",
              "      <td>4</td>\n",
              "      <td>5</td>\n",
              "      <td>5</td>\n",
              "      <td>3</td>\n",
              "      <td>3</td>\n",
              "      <td>3</td>\n",
              "      <td>4</td>\n",
              "      <td>4</td>\n",
              "      <td>1</td>\n",
              "    </tr>\n",
              "  </tbody>\n",
              "</table>\n",
              "<p>5 rows × 21 columns</p>\n",
              "</div>\n",
              "    <div class=\"colab-df-buttons\">\n",
              "\n",
              "  <div class=\"colab-df-container\">\n",
              "    <button class=\"colab-df-convert\" onclick=\"convertToInteractive('df-44819fb6-7019-48dc-b06e-c21dcb0fd723')\"\n",
              "            title=\"Convert this dataframe to an interactive table.\"\n",
              "            style=\"display:none;\">\n",
              "\n",
              "  <svg xmlns=\"http://www.w3.org/2000/svg\" height=\"24px\" viewBox=\"0 -960 960 960\">\n",
              "    <path d=\"M120-120v-720h720v720H120Zm60-500h600v-160H180v160Zm220 220h160v-160H400v160Zm0 220h160v-160H400v160ZM180-400h160v-160H180v160Zm440 0h160v-160H620v160ZM180-180h160v-160H180v160Zm440 0h160v-160H620v160Z\"/>\n",
              "  </svg>\n",
              "    </button>\n",
              "\n",
              "  <style>\n",
              "    .colab-df-container {\n",
              "      display:flex;\n",
              "      gap: 12px;\n",
              "    }\n",
              "\n",
              "    .colab-df-convert {\n",
              "      background-color: #E8F0FE;\n",
              "      border: none;\n",
              "      border-radius: 50%;\n",
              "      cursor: pointer;\n",
              "      display: none;\n",
              "      fill: #1967D2;\n",
              "      height: 32px;\n",
              "      padding: 0 0 0 0;\n",
              "      width: 32px;\n",
              "    }\n",
              "\n",
              "    .colab-df-convert:hover {\n",
              "      background-color: #E2EBFA;\n",
              "      box-shadow: 0px 1px 2px rgba(60, 64, 67, 0.3), 0px 1px 3px 1px rgba(60, 64, 67, 0.15);\n",
              "      fill: #174EA6;\n",
              "    }\n",
              "\n",
              "    .colab-df-buttons div {\n",
              "      margin-bottom: 4px;\n",
              "    }\n",
              "\n",
              "    [theme=dark] .colab-df-convert {\n",
              "      background-color: #3B4455;\n",
              "      fill: #D2E3FC;\n",
              "    }\n",
              "\n",
              "    [theme=dark] .colab-df-convert:hover {\n",
              "      background-color: #434B5C;\n",
              "      box-shadow: 0px 1px 3px 1px rgba(0, 0, 0, 0.15);\n",
              "      filter: drop-shadow(0px 1px 2px rgba(0, 0, 0, 0.3));\n",
              "      fill: #FFFFFF;\n",
              "    }\n",
              "  </style>\n",
              "\n",
              "    <script>\n",
              "      const buttonEl =\n",
              "        document.querySelector('#df-44819fb6-7019-48dc-b06e-c21dcb0fd723 button.colab-df-convert');\n",
              "      buttonEl.style.display =\n",
              "        google.colab.kernel.accessAllowed ? 'block' : 'none';\n",
              "\n",
              "      async function convertToInteractive(key) {\n",
              "        const element = document.querySelector('#df-44819fb6-7019-48dc-b06e-c21dcb0fd723');\n",
              "        const dataTable =\n",
              "          await google.colab.kernel.invokeFunction('convertToInteractive',\n",
              "                                                    [key], {});\n",
              "        if (!dataTable) return;\n",
              "\n",
              "        const docLinkHtml = 'Like what you see? Visit the ' +\n",
              "          '<a target=\"_blank\" href=https://colab.research.google.com/notebooks/data_table.ipynb>data table notebook</a>'\n",
              "          + ' to learn more about interactive tables.';\n",
              "        element.innerHTML = '';\n",
              "        dataTable['output_type'] = 'display_data';\n",
              "        await google.colab.output.renderOutput(dataTable, element);\n",
              "        const docLink = document.createElement('div');\n",
              "        docLink.innerHTML = docLinkHtml;\n",
              "        element.appendChild(docLink);\n",
              "      }\n",
              "    </script>\n",
              "  </div>\n",
              "\n",
              "\n",
              "<div id=\"df-2890f253-5c08-42ed-b26c-ebfbc832e8ca\">\n",
              "  <button class=\"colab-df-quickchart\" onclick=\"quickchart('df-2890f253-5c08-42ed-b26c-ebfbc832e8ca')\"\n",
              "            title=\"Suggest charts\"\n",
              "            style=\"display:none;\">\n",
              "\n",
              "<svg xmlns=\"http://www.w3.org/2000/svg\" height=\"24px\"viewBox=\"0 0 24 24\"\n",
              "     width=\"24px\">\n",
              "    <g>\n",
              "        <path d=\"M19 3H5c-1.1 0-2 .9-2 2v14c0 1.1.9 2 2 2h14c1.1 0 2-.9 2-2V5c0-1.1-.9-2-2-2zM9 17H7v-7h2v7zm4 0h-2V7h2v10zm4 0h-2v-4h2v4z\"/>\n",
              "    </g>\n",
              "</svg>\n",
              "  </button>\n",
              "\n",
              "<style>\n",
              "  .colab-df-quickchart {\n",
              "      --bg-color: #E8F0FE;\n",
              "      --fill-color: #1967D2;\n",
              "      --hover-bg-color: #E2EBFA;\n",
              "      --hover-fill-color: #174EA6;\n",
              "      --disabled-fill-color: #AAA;\n",
              "      --disabled-bg-color: #DDD;\n",
              "  }\n",
              "\n",
              "  [theme=dark] .colab-df-quickchart {\n",
              "      --bg-color: #3B4455;\n",
              "      --fill-color: #D2E3FC;\n",
              "      --hover-bg-color: #434B5C;\n",
              "      --hover-fill-color: #FFFFFF;\n",
              "      --disabled-bg-color: #3B4455;\n",
              "      --disabled-fill-color: #666;\n",
              "  }\n",
              "\n",
              "  .colab-df-quickchart {\n",
              "    background-color: var(--bg-color);\n",
              "    border: none;\n",
              "    border-radius: 50%;\n",
              "    cursor: pointer;\n",
              "    display: none;\n",
              "    fill: var(--fill-color);\n",
              "    height: 32px;\n",
              "    padding: 0;\n",
              "    width: 32px;\n",
              "  }\n",
              "\n",
              "  .colab-df-quickchart:hover {\n",
              "    background-color: var(--hover-bg-color);\n",
              "    box-shadow: 0 1px 2px rgba(60, 64, 67, 0.3), 0 1px 3px 1px rgba(60, 64, 67, 0.15);\n",
              "    fill: var(--button-hover-fill-color);\n",
              "  }\n",
              "\n",
              "  .colab-df-quickchart-complete:disabled,\n",
              "  .colab-df-quickchart-complete:disabled:hover {\n",
              "    background-color: var(--disabled-bg-color);\n",
              "    fill: var(--disabled-fill-color);\n",
              "    box-shadow: none;\n",
              "  }\n",
              "\n",
              "  .colab-df-spinner {\n",
              "    border: 2px solid var(--fill-color);\n",
              "    border-color: transparent;\n",
              "    border-bottom-color: var(--fill-color);\n",
              "    animation:\n",
              "      spin 1s steps(1) infinite;\n",
              "  }\n",
              "\n",
              "  @keyframes spin {\n",
              "    0% {\n",
              "      border-color: transparent;\n",
              "      border-bottom-color: var(--fill-color);\n",
              "      border-left-color: var(--fill-color);\n",
              "    }\n",
              "    20% {\n",
              "      border-color: transparent;\n",
              "      border-left-color: var(--fill-color);\n",
              "      border-top-color: var(--fill-color);\n",
              "    }\n",
              "    30% {\n",
              "      border-color: transparent;\n",
              "      border-left-color: var(--fill-color);\n",
              "      border-top-color: var(--fill-color);\n",
              "      border-right-color: var(--fill-color);\n",
              "    }\n",
              "    40% {\n",
              "      border-color: transparent;\n",
              "      border-right-color: var(--fill-color);\n",
              "      border-top-color: var(--fill-color);\n",
              "    }\n",
              "    60% {\n",
              "      border-color: transparent;\n",
              "      border-right-color: var(--fill-color);\n",
              "    }\n",
              "    80% {\n",
              "      border-color: transparent;\n",
              "      border-right-color: var(--fill-color);\n",
              "      border-bottom-color: var(--fill-color);\n",
              "    }\n",
              "    90% {\n",
              "      border-color: transparent;\n",
              "      border-bottom-color: var(--fill-color);\n",
              "    }\n",
              "  }\n",
              "</style>\n",
              "\n",
              "  <script>\n",
              "    async function quickchart(key) {\n",
              "      const quickchartButtonEl =\n",
              "        document.querySelector('#' + key + ' button');\n",
              "      quickchartButtonEl.disabled = true;  // To prevent multiple clicks.\n",
              "      quickchartButtonEl.classList.add('colab-df-spinner');\n",
              "      try {\n",
              "        const charts = await google.colab.kernel.invokeFunction(\n",
              "            'suggestCharts', [key], {});\n",
              "      } catch (error) {\n",
              "        console.error('Error during call to suggestCharts:', error);\n",
              "      }\n",
              "      quickchartButtonEl.classList.remove('colab-df-spinner');\n",
              "      quickchartButtonEl.classList.add('colab-df-quickchart-complete');\n",
              "    }\n",
              "    (() => {\n",
              "      let quickchartButtonEl =\n",
              "        document.querySelector('#df-2890f253-5c08-42ed-b26c-ebfbc832e8ca button');\n",
              "      quickchartButtonEl.style.display =\n",
              "        google.colab.kernel.accessAllowed ? 'block' : 'none';\n",
              "    })();\n",
              "  </script>\n",
              "</div>\n",
              "\n",
              "    </div>\n",
              "  </div>\n"
            ],
            "application/vnd.google.colaboratory.intrinsic+json": {
              "type": "dataframe",
              "variable_name": "df"
            }
          },
          "metadata": {},
          "execution_count": 2
        }
      ]
    },
    {
      "cell_type": "code",
      "source": [
        "df.columns = [i.split('. ')[-1] for i in df.columns]\n",
        "df.columns"
      ],
      "metadata": {
        "colab": {
          "base_uri": "https://localhost:8080/"
        },
        "id": "AZYNNRCv47G3",
        "outputId": "dc4ecb5e-3d2b-474a-fcca-dd73ac1f222a"
      },
      "execution_count": null,
      "outputs": [
        {
          "output_type": "execute_result",
          "data": {
            "text/plain": [
              "Index(['Timestamp', 'What is your age?', 'Gender', 'Relationship Status',\n",
              "       'Occupation Status',\n",
              "       'What type of organizations are you affiliated with?',\n",
              "       'Do you use social media?',\n",
              "       'What social media platforms do you commonly use?',\n",
              "       'What is the average time you spend on social media every day?',\n",
              "       'How often do you find yourself using Social media without a specific purpose?',\n",
              "       'How often do you get distracted by Social media when you are busy doing something?',\n",
              "       'Do you feel restless if you haven't used Social media in a while?',\n",
              "       'On a scale of 1 to 5, how easily distracted are you?',\n",
              "       'On a scale of 1 to 5, how much are you bothered by worries?',\n",
              "       'Do you find it difficult to concentrate on things?',\n",
              "       'On a scale of 1-5, how often do you compare yourself to other successful people through the use of social media?',\n",
              "       'Following the previous question, how do you feel about these comparisons, generally speaking?',\n",
              "       'How often do you look to seek validation from features of social media?',\n",
              "       'How often do you feel depressed or down?',\n",
              "       'On a scale of 1 to 5, how frequently does your interest in daily activities fluctuate?',\n",
              "       'On a scale of 1 to 5, how often do you face issues regarding sleep?'],\n",
              "      dtype='object')"
            ]
          },
          "metadata": {},
          "execution_count": 3
        }
      ]
    },
    {
      "cell_type": "code",
      "source": [
        "df.shape"
      ],
      "metadata": {
        "colab": {
          "base_uri": "https://localhost:8080/"
        },
        "id": "Zxt0K_wFLImw",
        "outputId": "35794ef2-a525-4486-e6b9-1c15592f194e"
      },
      "execution_count": null,
      "outputs": [
        {
          "output_type": "execute_result",
          "data": {
            "text/plain": [
              "(481, 21)"
            ]
          },
          "metadata": {},
          "execution_count": 4
        }
      ]
    },
    {
      "cell_type": "code",
      "source": [
        "df.columns"
      ],
      "metadata": {
        "colab": {
          "base_uri": "https://localhost:8080/"
        },
        "id": "iJ8PXoFXLN3f",
        "outputId": "3e0786a4-ca8a-4f3d-a658-08bca614cb61"
      },
      "execution_count": null,
      "outputs": [
        {
          "output_type": "execute_result",
          "data": {
            "text/plain": [
              "Index(['Timestamp', 'What is your age?', 'Gender', 'Relationship Status',\n",
              "       'Occupation Status',\n",
              "       'What type of organizations are you affiliated with?',\n",
              "       'Do you use social media?',\n",
              "       'What social media platforms do you commonly use?',\n",
              "       'What is the average time you spend on social media every day?',\n",
              "       'How often do you find yourself using Social media without a specific purpose?',\n",
              "       'How often do you get distracted by Social media when you are busy doing something?',\n",
              "       'Do you feel restless if you haven't used Social media in a while?',\n",
              "       'On a scale of 1 to 5, how easily distracted are you?',\n",
              "       'On a scale of 1 to 5, how much are you bothered by worries?',\n",
              "       'Do you find it difficult to concentrate on things?',\n",
              "       'On a scale of 1-5, how often do you compare yourself to other successful people through the use of social media?',\n",
              "       'Following the previous question, how do you feel about these comparisons, generally speaking?',\n",
              "       'How often do you look to seek validation from features of social media?',\n",
              "       'How often do you feel depressed or down?',\n",
              "       'On a scale of 1 to 5, how frequently does your interest in daily activities fluctuate?',\n",
              "       'On a scale of 1 to 5, how often do you face issues regarding sleep?'],\n",
              "      dtype='object')"
            ]
          },
          "metadata": {},
          "execution_count": 5
        }
      ]
    },
    {
      "cell_type": "code",
      "source": [
        "df.isna().mean() * 100"
      ],
      "metadata": {
        "colab": {
          "base_uri": "https://localhost:8080/"
        },
        "id": "0DQkDqreLOlU",
        "outputId": "48f6498c-89ed-484b-81c6-c68df3615396"
      },
      "execution_count": null,
      "outputs": [
        {
          "output_type": "execute_result",
          "data": {
            "text/plain": [
              "Timestamp                                                                                                           0.000000\n",
              "What is your age?                                                                                                   0.000000\n",
              "Gender                                                                                                              0.000000\n",
              "Relationship Status                                                                                                 0.000000\n",
              "Occupation Status                                                                                                   0.000000\n",
              "What type of organizations are you affiliated with?                                                                 6.237006\n",
              "Do you use social media?                                                                                            0.000000\n",
              "What social media platforms do you commonly use?                                                                    0.000000\n",
              "What is the average time you spend on social media every day?                                                       0.000000\n",
              "How often do you find yourself using Social media without a specific purpose?                                       0.000000\n",
              "How often do you get distracted by Social media when you are busy doing something?                                  0.000000\n",
              "Do you feel restless if you haven't used Social media in a while?                                                   0.000000\n",
              "On a scale of 1 to 5, how easily distracted are you?                                                                0.000000\n",
              "On a scale of 1 to 5, how much are you bothered by worries?                                                         0.000000\n",
              "Do you find it difficult to concentrate on things?                                                                  0.000000\n",
              "On a scale of 1-5, how often do you compare yourself to other successful people through the use of social media?    0.000000\n",
              "Following the previous question, how do you feel about these comparisons, generally speaking?                       0.000000\n",
              "How often do you look to seek validation from features of social media?                                             0.000000\n",
              "How often do you feel depressed or down?                                                                            0.000000\n",
              "On a scale of 1 to 5, how frequently does your interest in daily activities fluctuate?                              0.000000\n",
              "On a scale of 1 to 5, how often do you face issues regarding sleep?                                                 0.000000\n",
              "dtype: float64"
            ]
          },
          "metadata": {},
          "execution_count": 6
        }
      ]
    },
    {
      "cell_type": "code",
      "source": [
        "df.info()"
      ],
      "metadata": {
        "colab": {
          "base_uri": "https://localhost:8080/"
        },
        "id": "u7QDS087LQoP",
        "outputId": "8d4b5b92-1397-4bb8-ea80-ffc814d2cc72"
      },
      "execution_count": null,
      "outputs": [
        {
          "output_type": "stream",
          "name": "stdout",
          "text": [
            "<class 'pandas.core.frame.DataFrame'>\n",
            "RangeIndex: 481 entries, 0 to 480\n",
            "Data columns (total 21 columns):\n",
            " #   Column                                                                                                            Non-Null Count  Dtype  \n",
            "---  ------                                                                                                            --------------  -----  \n",
            " 0   Timestamp                                                                                                         481 non-null    object \n",
            " 1   What is your age?                                                                                                 481 non-null    float64\n",
            " 2   Gender                                                                                                            481 non-null    object \n",
            " 3   Relationship Status                                                                                               481 non-null    object \n",
            " 4   Occupation Status                                                                                                 481 non-null    object \n",
            " 5   What type of organizations are you affiliated with?                                                               451 non-null    object \n",
            " 6   Do you use social media?                                                                                          481 non-null    object \n",
            " 7   What social media platforms do you commonly use?                                                                  481 non-null    object \n",
            " 8   What is the average time you spend on social media every day?                                                     481 non-null    object \n",
            " 9   How often do you find yourself using Social media without a specific purpose?                                     481 non-null    int64  \n",
            " 10  How often do you get distracted by Social media when you are busy doing something?                                481 non-null    int64  \n",
            " 11  Do you feel restless if you haven't used Social media in a while?                                                 481 non-null    int64  \n",
            " 12  On a scale of 1 to 5, how easily distracted are you?                                                              481 non-null    int64  \n",
            " 13  On a scale of 1 to 5, how much are you bothered by worries?                                                       481 non-null    int64  \n",
            " 14  Do you find it difficult to concentrate on things?                                                                481 non-null    int64  \n",
            " 15  On a scale of 1-5, how often do you compare yourself to other successful people through the use of social media?  481 non-null    int64  \n",
            " 16  Following the previous question, how do you feel about these comparisons, generally speaking?                     481 non-null    int64  \n",
            " 17  How often do you look to seek validation from features of social media?                                           481 non-null    int64  \n",
            " 18  How often do you feel depressed or down?                                                                          481 non-null    int64  \n",
            " 19  On a scale of 1 to 5, how frequently does your interest in daily activities fluctuate?                            481 non-null    int64  \n",
            " 20  On a scale of 1 to 5, how often do you face issues regarding sleep?                                               481 non-null    int64  \n",
            "dtypes: float64(1), int64(12), object(8)\n",
            "memory usage: 79.0+ KB\n"
          ]
        }
      ]
    },
    {
      "cell_type": "code",
      "source": [
        "df.describe()"
      ],
      "metadata": {
        "colab": {
          "base_uri": "https://localhost:8080/",
          "height": 528
        },
        "id": "jZVdDKTZLaFG",
        "outputId": "0e78d3ce-a254-47bf-9566-154ec60e3a53"
      },
      "execution_count": null,
      "outputs": [
        {
          "output_type": "execute_result",
          "data": {
            "text/plain": [
              "       What is your age?  \\\n",
              "count          481.00000   \n",
              "mean            26.13659   \n",
              "std              9.91511   \n",
              "min             13.00000   \n",
              "25%             21.00000   \n",
              "50%             22.00000   \n",
              "75%             26.00000   \n",
              "max             91.00000   \n",
              "\n",
              "       How often do you find yourself using Social media without a specific purpose?  \\\n",
              "count                                         481.000000                               \n",
              "mean                                            3.553015                               \n",
              "std                                             1.096299                               \n",
              "min                                             1.000000                               \n",
              "25%                                             3.000000                               \n",
              "50%                                             4.000000                               \n",
              "75%                                             4.000000                               \n",
              "max                                             5.000000                               \n",
              "\n",
              "       How often do you get distracted by Social media when you are busy doing something?  \\\n",
              "count                                         481.000000                                    \n",
              "mean                                            3.320166                                    \n",
              "std                                             1.328137                                    \n",
              "min                                             1.000000                                    \n",
              "25%                                             2.000000                                    \n",
              "50%                                             3.000000                                    \n",
              "75%                                             4.000000                                    \n",
              "max                                             5.000000                                    \n",
              "\n",
              "       Do you feel restless if you haven't used Social media in a while?  \\\n",
              "count                                         481.000000                   \n",
              "mean                                            2.588358                   \n",
              "std                                             1.257059                   \n",
              "min                                             1.000000                   \n",
              "25%                                             2.000000                   \n",
              "50%                                             2.000000                   \n",
              "75%                                             3.000000                   \n",
              "max                                             5.000000                   \n",
              "\n",
              "       On a scale of 1 to 5, how easily distracted are you?  \\\n",
              "count                                         481.000000      \n",
              "mean                                            3.349272      \n",
              "std                                             1.175552      \n",
              "min                                             1.000000      \n",
              "25%                                             3.000000      \n",
              "50%                                             3.000000      \n",
              "75%                                             4.000000      \n",
              "max                                             5.000000      \n",
              "\n",
              "       On a scale of 1 to 5, how much are you bothered by worries?  \\\n",
              "count                                         481.000000             \n",
              "mean                                            3.559252             \n",
              "std                                             1.283356             \n",
              "min                                             1.000000             \n",
              "25%                                             3.000000             \n",
              "50%                                             4.000000             \n",
              "75%                                             5.000000             \n",
              "max                                             5.000000             \n",
              "\n",
              "       Do you find it difficult to concentrate on things?  \\\n",
              "count                                         481.000000    \n",
              "mean                                            3.245322    \n",
              "std                                             1.347105    \n",
              "min                                             1.000000    \n",
              "25%                                             2.000000    \n",
              "50%                                             3.000000    \n",
              "75%                                             4.000000    \n",
              "max                                             5.000000    \n",
              "\n",
              "       On a scale of 1-5, how often do you compare yourself to other successful people through the use of social media?  \\\n",
              "count                                         481.000000                                                                  \n",
              "mean                                            2.831601                                                                  \n",
              "std                                             1.407835                                                                  \n",
              "min                                             1.000000                                                                  \n",
              "25%                                             2.000000                                                                  \n",
              "50%                                             3.000000                                                                  \n",
              "75%                                             4.000000                                                                  \n",
              "max                                             5.000000                                                                  \n",
              "\n",
              "       Following the previous question, how do you feel about these comparisons, generally speaking?  \\\n",
              "count                                         481.000000                                               \n",
              "mean                                            2.775468                                               \n",
              "std                                             1.056479                                               \n",
              "min                                             1.000000                                               \n",
              "25%                                             2.000000                                               \n",
              "50%                                             3.000000                                               \n",
              "75%                                             3.000000                                               \n",
              "max                                             5.000000                                               \n",
              "\n",
              "       How often do you look to seek validation from features of social media?  \\\n",
              "count                                         481.000000                         \n",
              "mean                                            2.455301                         \n",
              "std                                             1.247739                         \n",
              "min                                             1.000000                         \n",
              "25%                                             1.000000                         \n",
              "50%                                             2.000000                         \n",
              "75%                                             3.000000                         \n",
              "max                                             5.000000                         \n",
              "\n",
              "       How often do you feel depressed or down?  \\\n",
              "count                                481.000000   \n",
              "mean                                   3.255717   \n",
              "std                                    1.313033   \n",
              "min                                    1.000000   \n",
              "25%                                    2.000000   \n",
              "50%                                    3.000000   \n",
              "75%                                    4.000000   \n",
              "max                                    5.000000   \n",
              "\n",
              "       On a scale of 1 to 5, how frequently does your interest in daily activities fluctuate?  \\\n",
              "count                                         481.000000                                        \n",
              "mean                                            3.170478                                        \n",
              "std                                             1.256666                                        \n",
              "min                                             1.000000                                        \n",
              "25%                                             2.000000                                        \n",
              "50%                                             3.000000                                        \n",
              "75%                                             4.000000                                        \n",
              "max                                             5.000000                                        \n",
              "\n",
              "       On a scale of 1 to 5, how often do you face issues regarding sleep?  \n",
              "count                                         481.000000                    \n",
              "mean                                            3.201663                    \n",
              "std                                             1.461619                    \n",
              "min                                             1.000000                    \n",
              "25%                                             2.000000                    \n",
              "50%                                             3.000000                    \n",
              "75%                                             5.000000                    \n",
              "max                                             5.000000                    "
            ],
            "text/html": [
              "\n",
              "  <div id=\"df-7980c7a7-3cde-463f-923f-e04d74c3cd28\" class=\"colab-df-container\">\n",
              "    <div>\n",
              "<style scoped>\n",
              "    .dataframe tbody tr th:only-of-type {\n",
              "        vertical-align: middle;\n",
              "    }\n",
              "\n",
              "    .dataframe tbody tr th {\n",
              "        vertical-align: top;\n",
              "    }\n",
              "\n",
              "    .dataframe thead th {\n",
              "        text-align: right;\n",
              "    }\n",
              "</style>\n",
              "<table border=\"1\" class=\"dataframe\">\n",
              "  <thead>\n",
              "    <tr style=\"text-align: right;\">\n",
              "      <th></th>\n",
              "      <th>What is your age?</th>\n",
              "      <th>How often do you find yourself using Social media without a specific purpose?</th>\n",
              "      <th>How often do you get distracted by Social media when you are busy doing something?</th>\n",
              "      <th>Do you feel restless if you haven't used Social media in a while?</th>\n",
              "      <th>On a scale of 1 to 5, how easily distracted are you?</th>\n",
              "      <th>On a scale of 1 to 5, how much are you bothered by worries?</th>\n",
              "      <th>Do you find it difficult to concentrate on things?</th>\n",
              "      <th>On a scale of 1-5, how often do you compare yourself to other successful people through the use of social media?</th>\n",
              "      <th>Following the previous question, how do you feel about these comparisons, generally speaking?</th>\n",
              "      <th>How often do you look to seek validation from features of social media?</th>\n",
              "      <th>How often do you feel depressed or down?</th>\n",
              "      <th>On a scale of 1 to 5, how frequently does your interest in daily activities fluctuate?</th>\n",
              "      <th>On a scale of 1 to 5, how often do you face issues regarding sleep?</th>\n",
              "    </tr>\n",
              "  </thead>\n",
              "  <tbody>\n",
              "    <tr>\n",
              "      <th>count</th>\n",
              "      <td>481.00000</td>\n",
              "      <td>481.000000</td>\n",
              "      <td>481.000000</td>\n",
              "      <td>481.000000</td>\n",
              "      <td>481.000000</td>\n",
              "      <td>481.000000</td>\n",
              "      <td>481.000000</td>\n",
              "      <td>481.000000</td>\n",
              "      <td>481.000000</td>\n",
              "      <td>481.000000</td>\n",
              "      <td>481.000000</td>\n",
              "      <td>481.000000</td>\n",
              "      <td>481.000000</td>\n",
              "    </tr>\n",
              "    <tr>\n",
              "      <th>mean</th>\n",
              "      <td>26.13659</td>\n",
              "      <td>3.553015</td>\n",
              "      <td>3.320166</td>\n",
              "      <td>2.588358</td>\n",
              "      <td>3.349272</td>\n",
              "      <td>3.559252</td>\n",
              "      <td>3.245322</td>\n",
              "      <td>2.831601</td>\n",
              "      <td>2.775468</td>\n",
              "      <td>2.455301</td>\n",
              "      <td>3.255717</td>\n",
              "      <td>3.170478</td>\n",
              "      <td>3.201663</td>\n",
              "    </tr>\n",
              "    <tr>\n",
              "      <th>std</th>\n",
              "      <td>9.91511</td>\n",
              "      <td>1.096299</td>\n",
              "      <td>1.328137</td>\n",
              "      <td>1.257059</td>\n",
              "      <td>1.175552</td>\n",
              "      <td>1.283356</td>\n",
              "      <td>1.347105</td>\n",
              "      <td>1.407835</td>\n",
              "      <td>1.056479</td>\n",
              "      <td>1.247739</td>\n",
              "      <td>1.313033</td>\n",
              "      <td>1.256666</td>\n",
              "      <td>1.461619</td>\n",
              "    </tr>\n",
              "    <tr>\n",
              "      <th>min</th>\n",
              "      <td>13.00000</td>\n",
              "      <td>1.000000</td>\n",
              "      <td>1.000000</td>\n",
              "      <td>1.000000</td>\n",
              "      <td>1.000000</td>\n",
              "      <td>1.000000</td>\n",
              "      <td>1.000000</td>\n",
              "      <td>1.000000</td>\n",
              "      <td>1.000000</td>\n",
              "      <td>1.000000</td>\n",
              "      <td>1.000000</td>\n",
              "      <td>1.000000</td>\n",
              "      <td>1.000000</td>\n",
              "    </tr>\n",
              "    <tr>\n",
              "      <th>25%</th>\n",
              "      <td>21.00000</td>\n",
              "      <td>3.000000</td>\n",
              "      <td>2.000000</td>\n",
              "      <td>2.000000</td>\n",
              "      <td>3.000000</td>\n",
              "      <td>3.000000</td>\n",
              "      <td>2.000000</td>\n",
              "      <td>2.000000</td>\n",
              "      <td>2.000000</td>\n",
              "      <td>1.000000</td>\n",
              "      <td>2.000000</td>\n",
              "      <td>2.000000</td>\n",
              "      <td>2.000000</td>\n",
              "    </tr>\n",
              "    <tr>\n",
              "      <th>50%</th>\n",
              "      <td>22.00000</td>\n",
              "      <td>4.000000</td>\n",
              "      <td>3.000000</td>\n",
              "      <td>2.000000</td>\n",
              "      <td>3.000000</td>\n",
              "      <td>4.000000</td>\n",
              "      <td>3.000000</td>\n",
              "      <td>3.000000</td>\n",
              "      <td>3.000000</td>\n",
              "      <td>2.000000</td>\n",
              "      <td>3.000000</td>\n",
              "      <td>3.000000</td>\n",
              "      <td>3.000000</td>\n",
              "    </tr>\n",
              "    <tr>\n",
              "      <th>75%</th>\n",
              "      <td>26.00000</td>\n",
              "      <td>4.000000</td>\n",
              "      <td>4.000000</td>\n",
              "      <td>3.000000</td>\n",
              "      <td>4.000000</td>\n",
              "      <td>5.000000</td>\n",
              "      <td>4.000000</td>\n",
              "      <td>4.000000</td>\n",
              "      <td>3.000000</td>\n",
              "      <td>3.000000</td>\n",
              "      <td>4.000000</td>\n",
              "      <td>4.000000</td>\n",
              "      <td>5.000000</td>\n",
              "    </tr>\n",
              "    <tr>\n",
              "      <th>max</th>\n",
              "      <td>91.00000</td>\n",
              "      <td>5.000000</td>\n",
              "      <td>5.000000</td>\n",
              "      <td>5.000000</td>\n",
              "      <td>5.000000</td>\n",
              "      <td>5.000000</td>\n",
              "      <td>5.000000</td>\n",
              "      <td>5.000000</td>\n",
              "      <td>5.000000</td>\n",
              "      <td>5.000000</td>\n",
              "      <td>5.000000</td>\n",
              "      <td>5.000000</td>\n",
              "      <td>5.000000</td>\n",
              "    </tr>\n",
              "  </tbody>\n",
              "</table>\n",
              "</div>\n",
              "    <div class=\"colab-df-buttons\">\n",
              "\n",
              "  <div class=\"colab-df-container\">\n",
              "    <button class=\"colab-df-convert\" onclick=\"convertToInteractive('df-7980c7a7-3cde-463f-923f-e04d74c3cd28')\"\n",
              "            title=\"Convert this dataframe to an interactive table.\"\n",
              "            style=\"display:none;\">\n",
              "\n",
              "  <svg xmlns=\"http://www.w3.org/2000/svg\" height=\"24px\" viewBox=\"0 -960 960 960\">\n",
              "    <path d=\"M120-120v-720h720v720H120Zm60-500h600v-160H180v160Zm220 220h160v-160H400v160Zm0 220h160v-160H400v160ZM180-400h160v-160H180v160Zm440 0h160v-160H620v160ZM180-180h160v-160H180v160Zm440 0h160v-160H620v160Z\"/>\n",
              "  </svg>\n",
              "    </button>\n",
              "\n",
              "  <style>\n",
              "    .colab-df-container {\n",
              "      display:flex;\n",
              "      gap: 12px;\n",
              "    }\n",
              "\n",
              "    .colab-df-convert {\n",
              "      background-color: #E8F0FE;\n",
              "      border: none;\n",
              "      border-radius: 50%;\n",
              "      cursor: pointer;\n",
              "      display: none;\n",
              "      fill: #1967D2;\n",
              "      height: 32px;\n",
              "      padding: 0 0 0 0;\n",
              "      width: 32px;\n",
              "    }\n",
              "\n",
              "    .colab-df-convert:hover {\n",
              "      background-color: #E2EBFA;\n",
              "      box-shadow: 0px 1px 2px rgba(60, 64, 67, 0.3), 0px 1px 3px 1px rgba(60, 64, 67, 0.15);\n",
              "      fill: #174EA6;\n",
              "    }\n",
              "\n",
              "    .colab-df-buttons div {\n",
              "      margin-bottom: 4px;\n",
              "    }\n",
              "\n",
              "    [theme=dark] .colab-df-convert {\n",
              "      background-color: #3B4455;\n",
              "      fill: #D2E3FC;\n",
              "    }\n",
              "\n",
              "    [theme=dark] .colab-df-convert:hover {\n",
              "      background-color: #434B5C;\n",
              "      box-shadow: 0px 1px 3px 1px rgba(0, 0, 0, 0.15);\n",
              "      filter: drop-shadow(0px 1px 2px rgba(0, 0, 0, 0.3));\n",
              "      fill: #FFFFFF;\n",
              "    }\n",
              "  </style>\n",
              "\n",
              "    <script>\n",
              "      const buttonEl =\n",
              "        document.querySelector('#df-7980c7a7-3cde-463f-923f-e04d74c3cd28 button.colab-df-convert');\n",
              "      buttonEl.style.display =\n",
              "        google.colab.kernel.accessAllowed ? 'block' : 'none';\n",
              "\n",
              "      async function convertToInteractive(key) {\n",
              "        const element = document.querySelector('#df-7980c7a7-3cde-463f-923f-e04d74c3cd28');\n",
              "        const dataTable =\n",
              "          await google.colab.kernel.invokeFunction('convertToInteractive',\n",
              "                                                    [key], {});\n",
              "        if (!dataTable) return;\n",
              "\n",
              "        const docLinkHtml = 'Like what you see? Visit the ' +\n",
              "          '<a target=\"_blank\" href=https://colab.research.google.com/notebooks/data_table.ipynb>data table notebook</a>'\n",
              "          + ' to learn more about interactive tables.';\n",
              "        element.innerHTML = '';\n",
              "        dataTable['output_type'] = 'display_data';\n",
              "        await google.colab.output.renderOutput(dataTable, element);\n",
              "        const docLink = document.createElement('div');\n",
              "        docLink.innerHTML = docLinkHtml;\n",
              "        element.appendChild(docLink);\n",
              "      }\n",
              "    </script>\n",
              "  </div>\n",
              "\n",
              "\n",
              "<div id=\"df-8b061d50-33b0-4d66-93e4-643bf55bdcd1\">\n",
              "  <button class=\"colab-df-quickchart\" onclick=\"quickchart('df-8b061d50-33b0-4d66-93e4-643bf55bdcd1')\"\n",
              "            title=\"Suggest charts\"\n",
              "            style=\"display:none;\">\n",
              "\n",
              "<svg xmlns=\"http://www.w3.org/2000/svg\" height=\"24px\"viewBox=\"0 0 24 24\"\n",
              "     width=\"24px\">\n",
              "    <g>\n",
              "        <path d=\"M19 3H5c-1.1 0-2 .9-2 2v14c0 1.1.9 2 2 2h14c1.1 0 2-.9 2-2V5c0-1.1-.9-2-2-2zM9 17H7v-7h2v7zm4 0h-2V7h2v10zm4 0h-2v-4h2v4z\"/>\n",
              "    </g>\n",
              "</svg>\n",
              "  </button>\n",
              "\n",
              "<style>\n",
              "  .colab-df-quickchart {\n",
              "      --bg-color: #E8F0FE;\n",
              "      --fill-color: #1967D2;\n",
              "      --hover-bg-color: #E2EBFA;\n",
              "      --hover-fill-color: #174EA6;\n",
              "      --disabled-fill-color: #AAA;\n",
              "      --disabled-bg-color: #DDD;\n",
              "  }\n",
              "\n",
              "  [theme=dark] .colab-df-quickchart {\n",
              "      --bg-color: #3B4455;\n",
              "      --fill-color: #D2E3FC;\n",
              "      --hover-bg-color: #434B5C;\n",
              "      --hover-fill-color: #FFFFFF;\n",
              "      --disabled-bg-color: #3B4455;\n",
              "      --disabled-fill-color: #666;\n",
              "  }\n",
              "\n",
              "  .colab-df-quickchart {\n",
              "    background-color: var(--bg-color);\n",
              "    border: none;\n",
              "    border-radius: 50%;\n",
              "    cursor: pointer;\n",
              "    display: none;\n",
              "    fill: var(--fill-color);\n",
              "    height: 32px;\n",
              "    padding: 0;\n",
              "    width: 32px;\n",
              "  }\n",
              "\n",
              "  .colab-df-quickchart:hover {\n",
              "    background-color: var(--hover-bg-color);\n",
              "    box-shadow: 0 1px 2px rgba(60, 64, 67, 0.3), 0 1px 3px 1px rgba(60, 64, 67, 0.15);\n",
              "    fill: var(--button-hover-fill-color);\n",
              "  }\n",
              "\n",
              "  .colab-df-quickchart-complete:disabled,\n",
              "  .colab-df-quickchart-complete:disabled:hover {\n",
              "    background-color: var(--disabled-bg-color);\n",
              "    fill: var(--disabled-fill-color);\n",
              "    box-shadow: none;\n",
              "  }\n",
              "\n",
              "  .colab-df-spinner {\n",
              "    border: 2px solid var(--fill-color);\n",
              "    border-color: transparent;\n",
              "    border-bottom-color: var(--fill-color);\n",
              "    animation:\n",
              "      spin 1s steps(1) infinite;\n",
              "  }\n",
              "\n",
              "  @keyframes spin {\n",
              "    0% {\n",
              "      border-color: transparent;\n",
              "      border-bottom-color: var(--fill-color);\n",
              "      border-left-color: var(--fill-color);\n",
              "    }\n",
              "    20% {\n",
              "      border-color: transparent;\n",
              "      border-left-color: var(--fill-color);\n",
              "      border-top-color: var(--fill-color);\n",
              "    }\n",
              "    30% {\n",
              "      border-color: transparent;\n",
              "      border-left-color: var(--fill-color);\n",
              "      border-top-color: var(--fill-color);\n",
              "      border-right-color: var(--fill-color);\n",
              "    }\n",
              "    40% {\n",
              "      border-color: transparent;\n",
              "      border-right-color: var(--fill-color);\n",
              "      border-top-color: var(--fill-color);\n",
              "    }\n",
              "    60% {\n",
              "      border-color: transparent;\n",
              "      border-right-color: var(--fill-color);\n",
              "    }\n",
              "    80% {\n",
              "      border-color: transparent;\n",
              "      border-right-color: var(--fill-color);\n",
              "      border-bottom-color: var(--fill-color);\n",
              "    }\n",
              "    90% {\n",
              "      border-color: transparent;\n",
              "      border-bottom-color: var(--fill-color);\n",
              "    }\n",
              "  }\n",
              "</style>\n",
              "\n",
              "  <script>\n",
              "    async function quickchart(key) {\n",
              "      const quickchartButtonEl =\n",
              "        document.querySelector('#' + key + ' button');\n",
              "      quickchartButtonEl.disabled = true;  // To prevent multiple clicks.\n",
              "      quickchartButtonEl.classList.add('colab-df-spinner');\n",
              "      try {\n",
              "        const charts = await google.colab.kernel.invokeFunction(\n",
              "            'suggestCharts', [key], {});\n",
              "      } catch (error) {\n",
              "        console.error('Error during call to suggestCharts:', error);\n",
              "      }\n",
              "      quickchartButtonEl.classList.remove('colab-df-spinner');\n",
              "      quickchartButtonEl.classList.add('colab-df-quickchart-complete');\n",
              "    }\n",
              "    (() => {\n",
              "      let quickchartButtonEl =\n",
              "        document.querySelector('#df-8b061d50-33b0-4d66-93e4-643bf55bdcd1 button');\n",
              "      quickchartButtonEl.style.display =\n",
              "        google.colab.kernel.accessAllowed ? 'block' : 'none';\n",
              "    })();\n",
              "  </script>\n",
              "</div>\n",
              "\n",
              "    </div>\n",
              "  </div>\n"
            ],
            "application/vnd.google.colaboratory.intrinsic+json": {
              "type": "dataframe",
              "summary": "{\n  \"name\": \"df\",\n  \"rows\": 8,\n  \"fields\": [\n    {\n      \"column\": \"What is your age?\",\n      \"properties\": {\n        \"dtype\": \"number\",\n        \"std\": 161.5425693966222,\n        \"min\": 9.915110102800591,\n        \"max\": 481.0,\n        \"num_unique_values\": 8,\n        \"samples\": [\n          26.13659043659044,\n          22.0,\n          481.0\n        ],\n        \"semantic_type\": \"\",\n        \"description\": \"\"\n      }\n    },\n    {\n      \"column\": \"How often do you find yourself using Social media without a specific purpose?\",\n      \"properties\": {\n        \"dtype\": \"number\",\n        \"std\": 168.97158858994604,\n        \"min\": 1.0,\n        \"max\": 481.0,\n        \"num_unique_values\": 7,\n        \"samples\": [\n          481.0,\n          3.553014553014553,\n          4.0\n        ],\n        \"semantic_type\": \"\",\n        \"description\": \"\"\n      }\n    },\n    {\n      \"column\": \"How often do you get distracted by Social media when you are busy doing something?\",\n      \"properties\": {\n        \"dtype\": \"number\",\n        \"std\": 169.07213044726862,\n        \"min\": 1.0,\n        \"max\": 481.0,\n        \"num_unique_values\": 8,\n        \"samples\": [\n          3.32016632016632,\n          3.0,\n          481.0\n        ],\n        \"semantic_type\": \"\",\n        \"description\": \"\"\n      }\n    },\n    {\n      \"column\": \"Do you feel restless if you haven't used Social media in a while?\",\n      \"properties\": {\n        \"dtype\": \"number\",\n        \"std\": 169.2128931391109,\n        \"min\": 1.0,\n        \"max\": 481.0,\n        \"num_unique_values\": 7,\n        \"samples\": [\n          481.0,\n          2.5883575883575882,\n          3.0\n        ],\n        \"semantic_type\": \"\",\n        \"description\": \"\"\n      }\n    },\n    {\n      \"column\": \"On a scale of 1 to 5, how easily distracted are you?\",\n      \"properties\": {\n        \"dtype\": \"number\",\n        \"std\": 169.02776860988988,\n        \"min\": 1.0,\n        \"max\": 481.0,\n        \"num_unique_values\": 7,\n        \"samples\": [\n          481.0,\n          3.3492723492723493,\n          4.0\n        ],\n        \"semantic_type\": \"\",\n        \"description\": \"\"\n      }\n    },\n    {\n      \"column\": \"On a scale of 1 to 5, how much are you bothered by worries?\",\n      \"properties\": {\n        \"dtype\": \"number\",\n        \"std\": 168.91212576708787,\n        \"min\": 1.0,\n        \"max\": 481.0,\n        \"num_unique_values\": 7,\n        \"samples\": [\n          481.0,\n          3.5592515592515594,\n          4.0\n        ],\n        \"semantic_type\": \"\",\n        \"description\": \"\"\n      }\n    },\n    {\n      \"column\": \"Do you find it difficult to concentrate on things?\",\n      \"properties\": {\n        \"dtype\": \"number\",\n        \"std\": 169.07489867914484,\n        \"min\": 1.0,\n        \"max\": 481.0,\n        \"num_unique_values\": 8,\n        \"samples\": [\n          3.2453222453222454,\n          3.0,\n          481.0\n        ],\n        \"semantic_type\": \"\",\n        \"description\": \"\"\n      }\n    },\n    {\n      \"column\": \"On a scale of 1-5, how often do you compare yourself to other successful people through the use of social media?\",\n      \"properties\": {\n        \"dtype\": \"number\",\n        \"std\": 169.09256269908164,\n        \"min\": 1.0,\n        \"max\": 481.0,\n        \"num_unique_values\": 8,\n        \"samples\": [\n          2.8316008316008316,\n          3.0,\n          481.0\n        ],\n        \"semantic_type\": \"\",\n        \"description\": \"\"\n      }\n    },\n    {\n      \"column\": \"Following the previous question, how do you feel about these comparisons, generally speaking?\",\n      \"properties\": {\n        \"dtype\": \"number\",\n        \"std\": 169.16334267487048,\n        \"min\": 1.0,\n        \"max\": 481.0,\n        \"num_unique_values\": 7,\n        \"samples\": [\n          481.0,\n          2.7754677754677757,\n          3.0\n        ],\n        \"semantic_type\": \"\",\n        \"description\": \"\"\n      }\n    },\n    {\n      \"column\": \"How often do you look to seek validation from features of social media?\",\n      \"properties\": {\n        \"dtype\": \"number\",\n        \"std\": 169.2712728078135,\n        \"min\": 1.0,\n        \"max\": 481.0,\n        \"num_unique_values\": 7,\n        \"samples\": [\n          481.0,\n          2.455301455301455,\n          3.0\n        ],\n        \"semantic_type\": \"\",\n        \"description\": \"\"\n      }\n    },\n    {\n      \"column\": \"How often do you feel depressed or down?\",\n      \"properties\": {\n        \"dtype\": \"number\",\n        \"std\": 169.07614072110067,\n        \"min\": 1.0,\n        \"max\": 481.0,\n        \"num_unique_values\": 8,\n        \"samples\": [\n          3.2557172557172556,\n          3.0,\n          481.0\n        ],\n        \"semantic_type\": \"\",\n        \"description\": \"\"\n      }\n    },\n    {\n      \"column\": \"On a scale of 1 to 5, how frequently does your interest in daily activities fluctuate?\",\n      \"properties\": {\n        \"dtype\": \"number\",\n        \"std\": 169.08333333719523,\n        \"min\": 1.0,\n        \"max\": 481.0,\n        \"num_unique_values\": 8,\n        \"samples\": [\n          3.1704781704781704,\n          3.0,\n          481.0\n        ],\n        \"semantic_type\": \"\",\n        \"description\": \"\"\n      }\n    },\n    {\n      \"column\": \"On a scale of 1 to 5, how often do you face issues regarding sleep?\",\n      \"properties\": {\n        \"dtype\": \"number\",\n        \"std\": 169.02203189838357,\n        \"min\": 1.0,\n        \"max\": 481.0,\n        \"num_unique_values\": 7,\n        \"samples\": [\n          481.0,\n          3.2016632016632016,\n          3.0\n        ],\n        \"semantic_type\": \"\",\n        \"description\": \"\"\n      }\n    }\n  ]\n}"
            }
          },
          "metadata": {},
          "execution_count": 8
        }
      ]
    },
    {
      "cell_type": "code",
      "source": [
        "df.columns"
      ],
      "metadata": {
        "colab": {
          "base_uri": "https://localhost:8080/"
        },
        "id": "oZuw1TSLLa4F",
        "outputId": "b93bbe6c-1ef8-4afe-a10a-c63bb04d414c"
      },
      "execution_count": null,
      "outputs": [
        {
          "output_type": "execute_result",
          "data": {
            "text/plain": [
              "Index(['Timestamp', 'What is your age?', 'Gender', 'Relationship Status',\n",
              "       'Occupation Status',\n",
              "       'What type of organizations are you affiliated with?',\n",
              "       'Do you use social media?',\n",
              "       'What social media platforms do you commonly use?',\n",
              "       'What is the average time you spend on social media every day?',\n",
              "       'How often do you find yourself using Social media without a specific purpose?',\n",
              "       'How often do you get distracted by Social media when you are busy doing something?',\n",
              "       'Do you feel restless if you haven't used Social media in a while?',\n",
              "       'On a scale of 1 to 5, how easily distracted are you?',\n",
              "       'On a scale of 1 to 5, how much are you bothered by worries?',\n",
              "       'Do you find it difficult to concentrate on things?',\n",
              "       'On a scale of 1-5, how often do you compare yourself to other successful people through the use of social media?',\n",
              "       'Following the previous question, how do you feel about these comparisons, generally speaking?',\n",
              "       'How often do you look to seek validation from features of social media?',\n",
              "       'How often do you feel depressed or down?',\n",
              "       'On a scale of 1 to 5, how frequently does your interest in daily activities fluctuate?',\n",
              "       'On a scale of 1 to 5, how often do you face issues regarding sleep?'],\n",
              "      dtype='object')"
            ]
          },
          "metadata": {},
          "execution_count": 9
        }
      ]
    },
    {
      "cell_type": "code",
      "source": [
        "df = df[(df['What is your age?'] > 0) & (df['What is your age?'] <= 100)]\n",
        "df = df.drop(columns=['Timestamp'])\n",
        "df.shape"
      ],
      "metadata": {
        "colab": {
          "base_uri": "https://localhost:8080/"
        },
        "id": "tiqXZWWjL-up",
        "outputId": "e64402c3-0be6-417a-874c-119f3de1b312"
      },
      "execution_count": null,
      "outputs": [
        {
          "output_type": "execute_result",
          "data": {
            "text/plain": [
              "(481, 20)"
            ]
          },
          "metadata": {},
          "execution_count": 10
        }
      ]
    },
    {
      "cell_type": "code",
      "source": [
        "df.shape"
      ],
      "metadata": {
        "colab": {
          "base_uri": "https://localhost:8080/"
        },
        "id": "vSefhbg9MLaI",
        "outputId": "b8692a62-dd6e-4791-cd01-0ccffef49693"
      },
      "execution_count": null,
      "outputs": [
        {
          "output_type": "execute_result",
          "data": {
            "text/plain": [
              "(481, 20)"
            ]
          },
          "metadata": {},
          "execution_count": 11
        }
      ]
    },
    {
      "cell_type": "code",
      "source": [
        "df['How often do you feel depressed or down?'].value_counts()"
      ],
      "metadata": {
        "colab": {
          "base_uri": "https://localhost:8080/"
        },
        "id": "JLsbpwYI_lMg",
        "outputId": "394470d8-e186-44ca-a1bd-7a634354137a"
      },
      "execution_count": null,
      "outputs": [
        {
          "output_type": "execute_result",
          "data": {
            "text/plain": [
              "3    117\n",
              "4    116\n",
              "5    105\n",
              "2     83\n",
              "1     60\n",
              "Name: How often do you feel depressed or down?, dtype: int64"
            ]
          },
          "metadata": {},
          "execution_count": 12
        }
      ]
    },
    {
      "cell_type": "code",
      "source": [
        "df['How often do you feel depressed or down?'] = df['How often do you feel depressed or down?'].replace({1: 'No', 2: 'No', 4: 'Yes', 5: 'Yes'})\n",
        "df = df[df['How often do you feel depressed or down?'] != 3]\n",
        "df.shape"
      ],
      "metadata": {
        "colab": {
          "base_uri": "https://localhost:8080/"
        },
        "id": "TSkObK__ASkQ",
        "outputId": "6abf45b8-fc17-4043-b7b0-6deb75d8688e"
      },
      "execution_count": null,
      "outputs": [
        {
          "output_type": "execute_result",
          "data": {
            "text/plain": [
              "(364, 20)"
            ]
          },
          "metadata": {},
          "execution_count": 13
        }
      ]
    },
    {
      "cell_type": "code",
      "source": [
        "df['How often do you feel depressed or down?'].value_counts()"
      ],
      "metadata": {
        "colab": {
          "base_uri": "https://localhost:8080/"
        },
        "id": "4Knk0SW2_vTH",
        "outputId": "636acbc2-fa17-48c4-b48a-c0ae0ac24f51"
      },
      "execution_count": null,
      "outputs": [
        {
          "output_type": "execute_result",
          "data": {
            "text/plain": [
              "Yes    221\n",
              "No     143\n",
              "Name: How often do you feel depressed or down?, dtype: int64"
            ]
          },
          "metadata": {},
          "execution_count": 14
        }
      ]
    },
    {
      "cell_type": "code",
      "source": [
        "numerical_cols = df.select_dtypes(include=['int64', 'float64']).columns.tolist()\n",
        "categorical_cols = df.select_dtypes(exclude=['int64', 'float64']).columns.tolist()\n",
        "categorical_cols.remove('How often do you feel depressed or down?')"
      ],
      "metadata": {
        "id": "dQNY64SePkA3"
      },
      "execution_count": null,
      "outputs": []
    },
    {
      "cell_type": "code",
      "source": [
        "categorical_cols"
      ],
      "metadata": {
        "colab": {
          "base_uri": "https://localhost:8080/"
        },
        "id": "E0Q0bebRP1ri",
        "outputId": "cb4e71cc-086a-4303-e118-30b0824b0613"
      },
      "execution_count": null,
      "outputs": [
        {
          "output_type": "execute_result",
          "data": {
            "text/plain": [
              "['Gender',\n",
              " 'Relationship Status',\n",
              " 'Occupation Status',\n",
              " 'What type of organizations are you affiliated with?',\n",
              " 'Do you use social media?',\n",
              " 'What social media platforms do you commonly use?',\n",
              " 'What is the average time you spend on social media every day?']"
            ]
          },
          "metadata": {},
          "execution_count": 16
        }
      ]
    },
    {
      "cell_type": "code",
      "source": [
        "numerical_cols"
      ],
      "metadata": {
        "colab": {
          "base_uri": "https://localhost:8080/"
        },
        "id": "Hm-K7GJpP0s2",
        "outputId": "3f74ad08-2db6-439f-d2ba-6c5d420e1d36"
      },
      "execution_count": null,
      "outputs": [
        {
          "output_type": "execute_result",
          "data": {
            "text/plain": [
              "['What is your age?',\n",
              " 'How often do you find yourself using Social media without a specific purpose?',\n",
              " 'How often do you get distracted by Social media when you are busy doing something?',\n",
              " \"Do you feel restless if you haven't used Social media in a while?\",\n",
              " 'On a scale of 1 to 5, how easily distracted are you?',\n",
              " 'On a scale of 1 to 5, how much are you bothered by worries?',\n",
              " 'Do you find it difficult to concentrate on things?',\n",
              " 'On a scale of 1-5, how often do you compare yourself to other successful people through the use of social media?',\n",
              " 'Following the previous question, how do you feel about these comparisons, generally speaking?',\n",
              " 'How often do you look to seek validation from features of social media?',\n",
              " 'On a scale of 1 to 5, how frequently does your interest in daily activities fluctuate?',\n",
              " 'On a scale of 1 to 5, how often do you face issues regarding sleep?']"
            ]
          },
          "metadata": {},
          "execution_count": 17
        }
      ]
    },
    {
      "cell_type": "code",
      "source": [
        "d = {}\n",
        "for cat_col in numerical_cols:\n",
        "    if cat_col != 'comments':\n",
        "        d[cat_col] = df[cat_col].unique().tolist()\n",
        "d"
      ],
      "metadata": {
        "colab": {
          "base_uri": "https://localhost:8080/"
        },
        "id": "H4CTzW8b5kah",
        "outputId": "91c7ccb1-4cc7-482f-be4e-65a68a62a278"
      },
      "execution_count": null,
      "outputs": [
        {
          "output_type": "execute_result",
          "data": {
            "text/plain": [
              "{'What is your age?': [21.0,\n",
              "  20.0,\n",
              "  24.0,\n",
              "  22.0,\n",
              "  25.0,\n",
              "  34.0,\n",
              "  26.0,\n",
              "  23.0,\n",
              "  35.0,\n",
              "  19.0,\n",
              "  56.0,\n",
              "  65.0,\n",
              "  40.0,\n",
              "  33.0,\n",
              "  55.0,\n",
              "  27.0,\n",
              "  18.0,\n",
              "  14.0,\n",
              "  38.0,\n",
              "  28.0,\n",
              "  17.0,\n",
              "  32.0,\n",
              "  30.0,\n",
              "  16.0,\n",
              "  48.0,\n",
              "  47.0,\n",
              "  50.0,\n",
              "  49.0,\n",
              "  46.0,\n",
              "  36.0,\n",
              "  37.0,\n",
              "  45.0,\n",
              "  42.0,\n",
              "  69.0,\n",
              "  91.0,\n",
              "  15.0,\n",
              "  29.0,\n",
              "  43.0,\n",
              "  26.7,\n",
              "  44.0,\n",
              "  60.0,\n",
              "  51.0,\n",
              "  13.0,\n",
              "  53.0],\n",
              " 'How often do you find yourself using Social media without a specific purpose?': [5,\n",
              "  4,\n",
              "  3,\n",
              "  1,\n",
              "  2],\n",
              " 'How often do you get distracted by Social media when you are busy doing something?': [3,\n",
              "  2,\n",
              "  5,\n",
              "  1,\n",
              "  4],\n",
              " \"Do you feel restless if you haven't used Social media in a while?\": [2,\n",
              "  1,\n",
              "  4,\n",
              "  3,\n",
              "  5],\n",
              " 'On a scale of 1 to 5, how easily distracted are you?': [5, 4, 2, 3, 1],\n",
              " 'On a scale of 1 to 5, how much are you bothered by worries?': [2,\n",
              "  5,\n",
              "  4,\n",
              "  3,\n",
              "  1],\n",
              " 'Do you find it difficult to concentrate on things?': [5, 4, 3, 1, 2],\n",
              " 'On a scale of 1-5, how often do you compare yourself to other successful people through the use of social media?': [2,\n",
              "  5,\n",
              "  3,\n",
              "  1,\n",
              "  4],\n",
              " 'Following the previous question, how do you feel about these comparisons, generally speaking?': [3,\n",
              "  1,\n",
              "  2,\n",
              "  5,\n",
              "  4],\n",
              " 'How often do you look to seek validation from features of social media?': [2,\n",
              "  1,\n",
              "  3,\n",
              "  4,\n",
              "  5],\n",
              " 'On a scale of 1 to 5, how frequently does your interest in daily activities fluctuate?': [4,\n",
              "  2,\n",
              "  3,\n",
              "  5,\n",
              "  1],\n",
              " 'On a scale of 1 to 5, how often do you face issues regarding sleep?': [5,\n",
              "  2,\n",
              "  1,\n",
              "  3,\n",
              "  4]}"
            ]
          },
          "metadata": {},
          "execution_count": 18
        }
      ]
    },
    {
      "cell_type": "code",
      "source": [
        "df.isna().mean()[df.isna().mean() * 100 > 0]* 100"
      ],
      "metadata": {
        "id": "ajUCDqY0-La3",
        "colab": {
          "base_uri": "https://localhost:8080/"
        },
        "outputId": "dfcf8549-c818-4b9b-bf46-90589f0eba7c"
      },
      "execution_count": null,
      "outputs": [
        {
          "output_type": "execute_result",
          "data": {
            "text/plain": [
              "What type of organizations are you affiliated with?    6.593407\n",
              "dtype: float64"
            ]
          },
          "metadata": {},
          "execution_count": 19
        }
      ]
    },
    {
      "cell_type": "code",
      "source": [
        "df = df.dropna()\n",
        "df.isna().mean()[df.isna().mean() * 100 > 0]* 100"
      ],
      "metadata": {
        "colab": {
          "base_uri": "https://localhost:8080/"
        },
        "id": "sJVB_P3C5ul-",
        "outputId": "49179dd2-d451-4eca-b4cb-6021d2c7d1a3"
      },
      "execution_count": null,
      "outputs": [
        {
          "output_type": "execute_result",
          "data": {
            "text/plain": [
              "Series([], dtype: float64)"
            ]
          },
          "metadata": {},
          "execution_count": 20
        }
      ]
    },
    {
      "cell_type": "code",
      "source": [
        "df = df.dropna()\n",
        "df.shape"
      ],
      "metadata": {
        "colab": {
          "base_uri": "https://localhost:8080/"
        },
        "id": "tV_lrJxd5w99",
        "outputId": "4e05fe92-479f-4810-c347-8174d7b3f850"
      },
      "execution_count": null,
      "outputs": [
        {
          "output_type": "execute_result",
          "data": {
            "text/plain": [
              "(340, 20)"
            ]
          },
          "metadata": {},
          "execution_count": 21
        }
      ]
    },
    {
      "cell_type": "code",
      "source": [
        "d = {}\n",
        "for cat_col in categorical_cols:\n",
        "    if cat_col != 'comments':\n",
        "        d[cat_col] = df[cat_col].unique().tolist()\n",
        "d"
      ],
      "metadata": {
        "colab": {
          "base_uri": "https://localhost:8080/"
        },
        "id": "smATTdUH2Vmi",
        "outputId": "8913bd44-8c72-4587-df48-c2fec5918435"
      },
      "execution_count": null,
      "outputs": [
        {
          "output_type": "execute_result",
          "data": {
            "text/plain": [
              "{'Gender': ['Male',\n",
              "  'Female',\n",
              "  'Nonbinary ',\n",
              "  'Non-binary',\n",
              "  'Non binary ',\n",
              "  'There are others???'],\n",
              " 'Relationship Status': ['In a relationship', 'Single', 'Married', 'Divorced'],\n",
              " 'Occupation Status': ['University Student',\n",
              "  'Salaried Worker',\n",
              "  'School Student',\n",
              "  'Retired'],\n",
              " 'What type of organizations are you affiliated with?': ['University',\n",
              "  'Private',\n",
              "  'School, University',\n",
              "  'Company',\n",
              "  'University, Company',\n",
              "  'Goverment',\n",
              "  'Company, Private',\n",
              "  'School',\n",
              "  'University, Goverment, Private',\n",
              "  'University, Company, Private',\n",
              "  'University, Private',\n",
              "  'University, N/A',\n",
              "  'School, University, Private',\n",
              "  'University, Goverment',\n",
              "  'University, Company, Goverment',\n",
              "  'School, Company',\n",
              "  'School, N/A'],\n",
              " 'Do you use social media?': ['Yes', 'No'],\n",
              " 'What social media platforms do you commonly use?': ['Facebook, Twitter, Instagram, YouTube, Discord, Reddit',\n",
              "  'Facebook, Instagram, YouTube, Pinterest',\n",
              "  'Facebook, Instagram',\n",
              "  'Facebook, Instagram, YouTube',\n",
              "  'Facebook, Instagram, YouTube, Snapchat, TikTok',\n",
              "  'Reddit, Pinterest',\n",
              "  'Facebook, Instagram, YouTube, Discord',\n",
              "  'Facebook, YouTube, Pinterest',\n",
              "  'Facebook, YouTube, Discord',\n",
              "  'Facebook, Twitter, Instagram, YouTube',\n",
              "  'Facebook, Instagram, YouTube, Discord, Reddit',\n",
              "  'Facebook, Instagram, YouTube, Snapchat, Pinterest',\n",
              "  'Facebook, YouTube',\n",
              "  'Facebook, Instagram, YouTube, Snapchat, Discord, Pinterest, TikTok',\n",
              "  'Facebook, Instagram, YouTube, Snapchat, Discord',\n",
              "  'Facebook, Instagram, YouTube, TikTok',\n",
              "  'Facebook, Twitter, Instagram, YouTube, Discord',\n",
              "  'Facebook, Twitter, Instagram, YouTube, Snapchat, Discord, Reddit',\n",
              "  'Facebook, Instagram, YouTube, Snapchat',\n",
              "  'Twitter, YouTube, Reddit',\n",
              "  'Facebook',\n",
              "  'Discord, Reddit',\n",
              "  'YouTube, Discord, Reddit',\n",
              "  'Facebook, Twitter, Instagram, YouTube, Snapchat, Reddit, TikTok',\n",
              "  'Facebook, Instagram, YouTube, Discord, Pinterest',\n",
              "  'Facebook, Twitter, Instagram, YouTube, Snapchat, Discord, Reddit, Pinterest, TikTok',\n",
              "  'Instagram, Reddit',\n",
              "  'YouTube, Reddit',\n",
              "  'Facebook, Instagram, Reddit, TikTok',\n",
              "  'Twitter, Instagram, YouTube, Reddit, TikTok',\n",
              "  'Reddit',\n",
              "  'Instagram, YouTube',\n",
              "  'Instagram, YouTube, Discord, Reddit',\n",
              "  'Twitter, Instagram, YouTube, Snapchat, Reddit, Pinterest, TikTok',\n",
              "  'Twitter, YouTube, Discord, Reddit',\n",
              "  'Facebook, YouTube, Reddit',\n",
              "  'Facebook, Twitter, Instagram, YouTube, Snapchat, Discord, TikTok',\n",
              "  'Facebook, YouTube, Discord, Reddit',\n",
              "  'Facebook, Instagram, YouTube, Snapchat, Discord, Reddit, Pinterest',\n",
              "  'Instagram, YouTube, Snapchat, Discord, Reddit',\n",
              "  'Facebook, Twitter, Instagram, YouTube, Reddit',\n",
              "  'Facebook, Twitter, Instagram, YouTube, Snapchat',\n",
              "  'Instagram',\n",
              "  'Instagram, YouTube, Discord',\n",
              "  'Facebook, Instagram, YouTube, Snapchat, Discord, TikTok',\n",
              "  'Facebook, Twitter, Instagram, YouTube, Snapchat, Discord, Reddit, Pinterest',\n",
              "  'Facebook, Instagram, Snapchat',\n",
              "  'Facebook, YouTube, Snapchat, Pinterest',\n",
              "  'Facebook, Twitter, Instagram, YouTube, Snapchat, Discord',\n",
              "  'Facebook, Instagram, YouTube, Snapchat, Pinterest, TikTok',\n",
              "  'Facebook, Twitter, Instagram, YouTube, Pinterest',\n",
              "  'Facebook, Twitter, Instagram, YouTube, Snapchat, Discord, Pinterest',\n",
              "  'Twitter, Instagram, YouTube',\n",
              "  'Twitter',\n",
              "  'YouTube',\n",
              "  'Facebook, Twitter',\n",
              "  'Twitter, YouTube',\n",
              "  'Instagram, YouTube, Pinterest',\n",
              "  'Pinterest',\n",
              "  'Facebook, YouTube, TikTok',\n",
              "  'Facebook, Twitter, Instagram, YouTube, Reddit, Pinterest, TikTok',\n",
              "  'Facebook, Instagram, Pinterest',\n",
              "  'Facebook, YouTube, Discord, Reddit, Pinterest',\n",
              "  'Facebook, Twitter, YouTube, Discord, Reddit',\n",
              "  'Facebook, Discord, Reddit',\n",
              "  'Instagram, Discord, Reddit, Pinterest, TikTok',\n",
              "  'Twitter, Instagram, YouTube, Snapchat, Discord, Reddit, Pinterest, TikTok',\n",
              "  'Facebook, YouTube, Snapchat',\n",
              "  'Facebook, Instagram, YouTube, Snapchat, Discord, Pinterest',\n",
              "  'Facebook, YouTube, Discord, Pinterest',\n",
              "  'Facebook, Twitter, Instagram, YouTube, Discord, Reddit, TikTok',\n",
              "  'Instagram, YouTube, Discord, Reddit, TikTok',\n",
              "  'Facebook, Twitter, Instagram, YouTube, Snapchat, TikTok',\n",
              "  'Facebook, Twitter, Instagram, YouTube, Snapchat, Discord, Pinterest, TikTok',\n",
              "  'Discord',\n",
              "  'Facebook, Instagram, YouTube, Discord, Reddit, Pinterest',\n",
              "  'Facebook, Instagram, YouTube, Snapchat, Discord, Reddit, Pinterest, TikTok',\n",
              "  'Facebook, Twitter, Instagram, YouTube, Snapchat, Pinterest',\n",
              "  'Facebook, Discord',\n",
              "  'Facebook, TikTok',\n",
              "  'Instagram, YouTube, Discord, Pinterest',\n",
              "  'Facebook, YouTube, Snapchat, Discord',\n",
              "  'Facebook, Instagram, YouTube, Snapchat, Reddit, Pinterest, TikTok',\n",
              "  'Facebook, Instagram, Snapchat, Pinterest, TikTok',\n",
              "  'Facebook, Instagram, YouTube, Pinterest, TikTok',\n",
              "  'Facebook, Twitter, Instagram, Snapchat, Reddit',\n",
              "  'Facebook, Twitter, Instagram, YouTube, Reddit, Pinterest',\n",
              "  'Facebook, Instagram, YouTube, Snapchat, Discord, Reddit, TikTok',\n",
              "  'Twitter, Discord, Reddit',\n",
              "  'Facebook, Instagram, Snapchat, Discord, Pinterest, TikTok',\n",
              "  'Instagram, YouTube, Discord, Reddit, Pinterest',\n",
              "  'Twitter, Instagram, YouTube, TikTok',\n",
              "  'Facebook, Twitter, Instagram, YouTube, Discord, Pinterest',\n",
              "  'Facebook, Snapchat, Reddit',\n",
              "  'Facebook, Instagram, TikTok',\n",
              "  'Facebook, Twitter, Instagram, YouTube, Discord, Reddit, Pinterest',\n",
              "  'Facebook, Instagram, YouTube, Reddit',\n",
              "  'Facebook, Instagram, YouTube, Reddit, TikTok',\n",
              "  'Facebook, Instagram, Discord',\n",
              "  'Facebook, Twitter, YouTube, Pinterest',\n",
              "  'Instagram, Discord',\n",
              "  'Twitter, Instagram, YouTube, Discord, Pinterest',\n",
              "  'Instagram, YouTube, Snapchat, Discord, Reddit, Pinterest, TikTok'],\n",
              " 'What is the average time you spend on social media every day?': ['Between 2 and 3 hours',\n",
              "  'More than 5 hours',\n",
              "  'Between 3 and 4 hours',\n",
              "  'Less than an Hour',\n",
              "  'Between 1 and 2 hours',\n",
              "  'Between 4 and 5 hours']}"
            ]
          },
          "metadata": {},
          "execution_count": 22
        }
      ]
    },
    {
      "cell_type": "code",
      "source": [
        "gender_mapping = {\n",
        "    'Male': 'Male',\n",
        "    'Female': 'Female',\n",
        "    'Nonbinary ': 'Other',\n",
        "    'Non-binary': 'Other',\n",
        "    'Non binary ': 'Other',\n",
        "    'There are others???': 'Other'\n",
        "}\n",
        "\n",
        "df['Gender'] = df['Gender'].map(gender_mapping)"
      ],
      "metadata": {
        "id": "MO9i5-GN54SA"
      },
      "execution_count": null,
      "outputs": []
    },
    {
      "cell_type": "code",
      "source": [
        "time_mapping = {\n",
        "    'Between 2 and 3 hours': '2-3 hours',\n",
        "    'More than 5 hours': 'More than 5 hours',\n",
        "    'Between 3 and 4 hours': '3-4 hours',\n",
        "    'Less than an Hour': 'Less than 1 hour',\n",
        "    'Between 1 and 2 hours': '1-2 hours',\n",
        "    'Between 4 and 5 hours': '4-5 hours'\n",
        "}\n",
        "\n",
        "df['What is the average time you spend on social media every day?'] = df['What is the average time you spend on social media every day?'].map(time_mapping)"
      ],
      "metadata": {
        "id": "HMjI8Xgo9tVZ"
      },
      "execution_count": null,
      "outputs": []
    },
    {
      "cell_type": "code",
      "source": [
        "from sklearn.feature_extraction.text import CountVectorizer\n",
        "vectorizer = CountVectorizer()\n",
        "r = vectorizer.fit_transform(df['What type of organizations are you affiliated with?'].values.ravel().tolist())\n",
        "print(vectorizer.vocabulary_.keys())"
      ],
      "metadata": {
        "colab": {
          "base_uri": "https://localhost:8080/"
        },
        "id": "waVnr6qQ7qsB",
        "outputId": "ad071dec-b042-4603-e2bc-a1e1ff3b0ddb"
      },
      "execution_count": null,
      "outputs": [
        {
          "output_type": "stream",
          "name": "stdout",
          "text": [
            "dict_keys(['university', 'private', 'school', 'company', 'goverment'])\n"
          ]
        }
      ]
    },
    {
      "cell_type": "code",
      "source": [
        "r = vectorizer.fit_transform(df['What social media platforms do you commonly use?'].values.ravel().tolist())\n",
        "print(vectorizer.vocabulary_.keys())"
      ],
      "metadata": {
        "colab": {
          "base_uri": "https://localhost:8080/"
        },
        "id": "qh3VH9-u-00D",
        "outputId": "219010f9-b0ea-4439-ecac-63e2b15af79b"
      },
      "execution_count": null,
      "outputs": [
        {
          "output_type": "stream",
          "name": "stdout",
          "text": [
            "dict_keys(['facebook', 'twitter', 'instagram', 'youtube', 'discord', 'reddit', 'pinterest', 'snapchat', 'tiktok'])\n"
          ]
        }
      ]
    },
    {
      "cell_type": "code",
      "source": [
        "df['How often do you feel depressed or down?'].value_counts()"
      ],
      "metadata": {
        "colab": {
          "base_uri": "https://localhost:8080/"
        },
        "id": "zmUyMxCdRE4h",
        "outputId": "8f8ffdf0-4133-4ce7-db1d-06e4c0e8de47"
      },
      "execution_count": null,
      "outputs": [
        {
          "output_type": "execute_result",
          "data": {
            "text/plain": [
              "Yes    206\n",
              "No     134\n",
              "Name: How often do you feel depressed or down?, dtype: int64"
            ]
          },
          "metadata": {},
          "execution_count": 27
        }
      ]
    },
    {
      "cell_type": "code",
      "source": [
        "X = df.drop(columns=['How often do you feel depressed or down?'])\n",
        "y = df[['How often do you feel depressed or down?']]"
      ],
      "metadata": {
        "id": "UfIbqtLdRPJU"
      },
      "execution_count": null,
      "outputs": []
    },
    {
      "cell_type": "code",
      "source": [
        "from sklearn.model_selection import train_test_split\n",
        "X_train, X_test, y_train, y_test = train_test_split(X, y, test_size=0.2, stratify=y)"
      ],
      "metadata": {
        "id": "DuT0sKX8RMrv"
      },
      "execution_count": null,
      "outputs": []
    },
    {
      "cell_type": "code",
      "source": [
        "X_train.shape,X_test.shape"
      ],
      "metadata": {
        "colab": {
          "base_uri": "https://localhost:8080/"
        },
        "id": "ms3BqdykRaB4",
        "outputId": "df05b324-4ea6-4344-ff53-2fd2c94a0571"
      },
      "execution_count": null,
      "outputs": [
        {
          "output_type": "execute_result",
          "data": {
            "text/plain": [
              "((272, 19), (68, 19))"
            ]
          },
          "metadata": {},
          "execution_count": 30
        }
      ]
    },
    {
      "cell_type": "code",
      "source": [
        "y_train.shape,y_test.shape"
      ],
      "metadata": {
        "colab": {
          "base_uri": "https://localhost:8080/"
        },
        "id": "G4DCksRdRdmQ",
        "outputId": "2385f69f-acfb-486d-f50b-50204d2440d9"
      },
      "execution_count": null,
      "outputs": [
        {
          "output_type": "execute_result",
          "data": {
            "text/plain": [
              "((272, 1), (68, 1))"
            ]
          },
          "metadata": {},
          "execution_count": 31
        }
      ]
    },
    {
      "cell_type": "code",
      "source": [
        "numerical_cols = df.select_dtypes(include=['int64', 'float64']).columns.tolist()\n",
        "categorical_cols = df.select_dtypes(exclude=['int64', 'float64']).columns.tolist()\n",
        "text_columns = ['What type of organizations are you affiliated with?','What social media platforms do you commonly use?']\n",
        "categorical_cols.remove('How often do you feel depressed or down?')\n",
        "categorical_cols.remove(text_columns[0])\n",
        "categorical_cols.remove(text_columns[1])"
      ],
      "metadata": {
        "id": "dCHSvBIk-WN2"
      },
      "execution_count": null,
      "outputs": []
    },
    {
      "cell_type": "code",
      "source": [
        "categorical_cols"
      ],
      "metadata": {
        "colab": {
          "base_uri": "https://localhost:8080/"
        },
        "id": "Wy8OdoNy-bp1",
        "outputId": "17089ecc-f842-476f-8ce5-0fbfcfed0d6e"
      },
      "execution_count": null,
      "outputs": [
        {
          "output_type": "execute_result",
          "data": {
            "text/plain": [
              "['Gender',\n",
              " 'Relationship Status',\n",
              " 'Occupation Status',\n",
              " 'Do you use social media?',\n",
              " 'What is the average time you spend on social media every day?']"
            ]
          },
          "metadata": {},
          "execution_count": 33
        }
      ]
    },
    {
      "cell_type": "code",
      "source": [
        "d = {}\n",
        "for cat_col in categorical_cols:\n",
        "    if cat_col != 'comments':\n",
        "        d[cat_col] = df[cat_col].unique().tolist()\n",
        "d"
      ],
      "metadata": {
        "colab": {
          "base_uri": "https://localhost:8080/"
        },
        "id": "yZbjSYZcDfWr",
        "outputId": "40a94f35-d30a-4585-e08b-f1bfa7e2d769"
      },
      "execution_count": null,
      "outputs": [
        {
          "output_type": "execute_result",
          "data": {
            "text/plain": [
              "{'Gender': ['Male', 'Female', 'Other'],\n",
              " 'Relationship Status': ['In a relationship', 'Single', 'Married', 'Divorced'],\n",
              " 'Occupation Status': ['University Student',\n",
              "  'Salaried Worker',\n",
              "  'School Student',\n",
              "  'Retired'],\n",
              " 'Do you use social media?': ['Yes', 'No'],\n",
              " 'What is the average time you spend on social media every day?': ['2-3 hours',\n",
              "  'More than 5 hours',\n",
              "  '3-4 hours',\n",
              "  'Less than 1 hour',\n",
              "  '1-2 hours',\n",
              "  '4-5 hours']}"
            ]
          },
          "metadata": {},
          "execution_count": 39
        }
      ]
    },
    {
      "cell_type": "code",
      "source": [
        "numerical_cols"
      ],
      "metadata": {
        "colab": {
          "base_uri": "https://localhost:8080/"
        },
        "id": "nXsjC2KP_J1O",
        "outputId": "19f63595-c445-4824-f98b-cb5e8d7cba8d"
      },
      "execution_count": null,
      "outputs": [
        {
          "output_type": "execute_result",
          "data": {
            "text/plain": [
              "['What is your age?',\n",
              " 'How often do you find yourself using Social media without a specific purpose?',\n",
              " 'How often do you get distracted by Social media when you are busy doing something?',\n",
              " \"Do you feel restless if you haven't used Social media in a while?\",\n",
              " 'On a scale of 1 to 5, how easily distracted are you?',\n",
              " 'On a scale of 1 to 5, how much are you bothered by worries?',\n",
              " 'Do you find it difficult to concentrate on things?',\n",
              " 'On a scale of 1-5, how often do you compare yourself to other successful people through the use of social media?',\n",
              " 'Following the previous question, how do you feel about these comparisons, generally speaking?',\n",
              " 'How often do you look to seek validation from features of social media?',\n",
              " 'On a scale of 1 to 5, how frequently does your interest in daily activities fluctuate?',\n",
              " 'On a scale of 1 to 5, how often do you face issues regarding sleep?']"
            ]
          },
          "metadata": {},
          "execution_count": 34
        }
      ]
    },
    {
      "cell_type": "code",
      "source": [
        "text_columns"
      ],
      "metadata": {
        "colab": {
          "base_uri": "https://localhost:8080/"
        },
        "id": "FscTwRtA_Kyl",
        "outputId": "cc60f3c5-1857-4b04-e7d6-5cebf4fe4ee3"
      },
      "execution_count": null,
      "outputs": [
        {
          "output_type": "execute_result",
          "data": {
            "text/plain": [
              "['What type of organizations are you affiliated with?',\n",
              " 'What social media platforms do you commonly use?']"
            ]
          },
          "metadata": {},
          "execution_count": 35
        }
      ]
    },
    {
      "cell_type": "code",
      "source": [
        "X_train.to_dict(orient='index')[0]"
      ],
      "metadata": {
        "colab": {
          "base_uri": "https://localhost:8080/"
        },
        "id": "vaanN9a3C6Su",
        "outputId": "511e3cff-1496-4a91-ea40-192e6d14e374"
      },
      "execution_count": null,
      "outputs": [
        {
          "output_type": "execute_result",
          "data": {
            "text/plain": [
              "{'What is your age?': 21.0,\n",
              " 'Gender': 'Male',\n",
              " 'Relationship Status': 'In a relationship',\n",
              " 'Occupation Status': 'University Student',\n",
              " 'What type of organizations are you affiliated with?': 'University',\n",
              " 'Do you use social media?': 'Yes',\n",
              " 'What social media platforms do you commonly use?': 'Facebook, Twitter, Instagram, YouTube, Discord, Reddit',\n",
              " 'What is the average time you spend on social media every day?': '2-3 hours',\n",
              " 'How often do you find yourself using Social media without a specific purpose?': 5,\n",
              " 'How often do you get distracted by Social media when you are busy doing something?': 3,\n",
              " \"Do you feel restless if you haven't used Social media in a while?\": 2,\n",
              " 'On a scale of 1 to 5, how easily distracted are you?': 5,\n",
              " 'On a scale of 1 to 5, how much are you bothered by worries?': 2,\n",
              " 'Do you find it difficult to concentrate on things?': 5,\n",
              " 'On a scale of 1-5, how often do you compare yourself to other successful people through the use of social media?': 2,\n",
              " 'Following the previous question, how do you feel about these comparisons, generally speaking?': 3,\n",
              " 'How often do you look to seek validation from features of social media?': 2,\n",
              " 'On a scale of 1 to 5, how frequently does your interest in daily activities fluctuate?': 4,\n",
              " 'On a scale of 1 to 5, how often do you face issues regarding sleep?': 5}"
            ]
          },
          "metadata": {},
          "execution_count": 38
        }
      ]
    },
    {
      "cell_type": "code",
      "source": [
        "from sklearn.compose import make_column_transformer\n",
        "from sklearn.preprocessing import StandardScaler, OneHotEncoder\n",
        "from sklearn.feature_extraction.text import CountVectorizer\n",
        "\n",
        "column_transformer = make_column_transformer(\n",
        "    (StandardScaler(), numerical_cols),\n",
        "    (OneHotEncoder(handle_unknown='ignore'), categorical_cols),\n",
        "    (CountVectorizer(), text_columns[0]),\n",
        "    (CountVectorizer(), text_columns[1]),\n",
        ")\n",
        "\n",
        "X_train = column_transformer.fit_transform(X_train)\n",
        "X_test = column_transformer.transform(X_test)"
      ],
      "metadata": {
        "id": "L1aOAmb3Pbdg"
      },
      "execution_count": null,
      "outputs": []
    },
    {
      "cell_type": "code",
      "source": [
        "X_train.shape,X_test.shape"
      ],
      "metadata": {
        "colab": {
          "base_uri": "https://localhost:8080/"
        },
        "id": "4PqRKfuhRpPk",
        "outputId": "0d351651-8ce5-4eca-d227-5be219dfb131"
      },
      "execution_count": null,
      "outputs": [
        {
          "output_type": "execute_result",
          "data": {
            "text/plain": [
              "((272, 45), (68, 45))"
            ]
          },
          "metadata": {},
          "execution_count": 41
        }
      ]
    },
    {
      "cell_type": "code",
      "source": [
        "!pip install scikit-plot"
      ],
      "metadata": {
        "colab": {
          "base_uri": "https://localhost:8080/"
        },
        "id": "xSUbL8bATctw",
        "outputId": "5957cac4-16bd-441c-aa0a-3fc8e91f7d07"
      },
      "execution_count": null,
      "outputs": [
        {
          "output_type": "stream",
          "name": "stdout",
          "text": [
            "Collecting scikit-plot\n",
            "  Downloading scikit_plot-0.3.7-py3-none-any.whl (33 kB)\n",
            "Requirement already satisfied: matplotlib>=1.4.0 in /usr/local/lib/python3.10/dist-packages (from scikit-plot) (3.7.1)\n",
            "Requirement already satisfied: scikit-learn>=0.18 in /usr/local/lib/python3.10/dist-packages (from scikit-plot) (1.2.2)\n",
            "Requirement already satisfied: scipy>=0.9 in /usr/local/lib/python3.10/dist-packages (from scikit-plot) (1.11.4)\n",
            "Requirement already satisfied: joblib>=0.10 in /usr/local/lib/python3.10/dist-packages (from scikit-plot) (1.3.2)\n",
            "Requirement already satisfied: contourpy>=1.0.1 in /usr/local/lib/python3.10/dist-packages (from matplotlib>=1.4.0->scikit-plot) (1.2.0)\n",
            "Requirement already satisfied: cycler>=0.10 in /usr/local/lib/python3.10/dist-packages (from matplotlib>=1.4.0->scikit-plot) (0.12.1)\n",
            "Requirement already satisfied: fonttools>=4.22.0 in /usr/local/lib/python3.10/dist-packages (from matplotlib>=1.4.0->scikit-plot) (4.49.0)\n",
            "Requirement already satisfied: kiwisolver>=1.0.1 in /usr/local/lib/python3.10/dist-packages (from matplotlib>=1.4.0->scikit-plot) (1.4.5)\n",
            "Requirement already satisfied: numpy>=1.20 in /usr/local/lib/python3.10/dist-packages (from matplotlib>=1.4.0->scikit-plot) (1.25.2)\n",
            "Requirement already satisfied: packaging>=20.0 in /usr/local/lib/python3.10/dist-packages (from matplotlib>=1.4.0->scikit-plot) (23.2)\n",
            "Requirement already satisfied: pillow>=6.2.0 in /usr/local/lib/python3.10/dist-packages (from matplotlib>=1.4.0->scikit-plot) (9.4.0)\n",
            "Requirement already satisfied: pyparsing>=2.3.1 in /usr/local/lib/python3.10/dist-packages (from matplotlib>=1.4.0->scikit-plot) (3.1.1)\n",
            "Requirement already satisfied: python-dateutil>=2.7 in /usr/local/lib/python3.10/dist-packages (from matplotlib>=1.4.0->scikit-plot) (2.8.2)\n",
            "Requirement already satisfied: threadpoolctl>=2.0.0 in /usr/local/lib/python3.10/dist-packages (from scikit-learn>=0.18->scikit-plot) (3.3.0)\n",
            "Requirement already satisfied: six>=1.5 in /usr/local/lib/python3.10/dist-packages (from python-dateutil>=2.7->matplotlib>=1.4.0->scikit-plot) (1.16.0)\n",
            "Installing collected packages: scikit-plot\n",
            "Successfully installed scikit-plot-0.3.7\n"
          ]
        }
      ]
    },
    {
      "cell_type": "code",
      "source": [
        "label = y_test['How often do you feel depressed or down?'].unique().tolist()"
      ],
      "metadata": {
        "id": "2p25y4BGTmPF"
      },
      "execution_count": null,
      "outputs": []
    },
    {
      "cell_type": "code",
      "source": [
        "import time\n",
        "import numpy as np\n",
        "import matplotlib.pyplot as plt\n",
        "from sklearn.metrics import confusion_matrix, balanced_accuracy_score, log_loss, classification_report\n",
        "import scikitplot as skplt\n",
        "import warnings\n",
        "warnings.filterwarnings('ignore')\n",
        "\n",
        "def evaluate_model(model, X_train, y_train, X_test, y_test, label, include_log_loss=True):\n",
        "    print(f'Results for {model.__class__.__name__}:\\n')\n",
        "\n",
        "    start_time = time.time()\n",
        "    model.fit(X_train, y_train)\n",
        "    train_time = time.time() - start_time\n",
        "    print(f'Training time (sec) = {train_time}')\n",
        "\n",
        "    y_pred_train = model.predict(X_train)\n",
        "\n",
        "    start_time = time.time()\n",
        "    y_pred_test = model.predict(X_test)\n",
        "    test_time = time.time() - start_time\n",
        "    print(f'Prediction time (sec) = {test_time}')\n",
        "\n",
        "    y_pred_prob_train = model.predict_proba(X_train) if hasattr(model, 'predict_proba') else None\n",
        "    y_pred_prob_test = model.predict_proba(X_test) if hasattr(model, 'predict_proba') else None\n",
        "\n",
        "    confusion_mat = confusion_matrix(y_test, y_pred_test)\n",
        "    misclassified = np.sum(y_pred_test != y_test.values.ravel())\n",
        "    acc_train = balanced_accuracy_score(y_train, y_pred_train)\n",
        "    acc_test = balanced_accuracy_score(y_test, y_pred_test)\n",
        "\n",
        "    loss_train, loss_test = None, None\n",
        "    if include_log_loss and y_pred_prob_test is not None:\n",
        "        loss_train = log_loss(y_train, y_pred_prob_train)\n",
        "        loss_test = log_loss(y_test, y_pred_prob_test)\n",
        "\n",
        "    print(f'\\nTraining score = {acc_train}')\n",
        "    print(f'Testing score = {acc_test}\\n')\n",
        "\n",
        "    for i, class_label in enumerate(label):\n",
        "        err = np.sum(confusion_mat[i]) - confusion_mat[i][i]\n",
        "        print(f'No of misclassified for class {class_label} (test data) = {err}')\n",
        "\n",
        "    print(f'Total no of misclassified points (test data) = {misclassified}')\n",
        "    print(f'Total % of misclassified points (test data) = {misclassified / len(y_test)}\\n')\n",
        "\n",
        "    if loss_train is not None and loss_test is not None:\n",
        "        print(f'Training log_loss = {loss_train}')\n",
        "        print(f'Testing log_loss = {loss_test}\\n')\n",
        "\n",
        "    print('Confusion matrix:')\n",
        "    skplt.metrics.plot_confusion_matrix(y_test, y_pred_test)\n",
        "    plt.show()\n",
        "\n",
        "    print('Classification report:\\n')\n",
        "    print(classification_report(y_test, y_pred_test))\n",
        "    print('**************************************************************************')\n",
        "\n",
        "    return [acc_train, acc_test, misclassified, misclassified / len(y_test), loss_train, loss_test, train_time, test_time]"
      ],
      "metadata": {
        "id": "fdtKuztQSwfJ"
      },
      "execution_count": null,
      "outputs": []
    },
    {
      "cell_type": "code",
      "source": [
        "from sklearn.linear_model import LogisticRegression\n",
        "lr = LogisticRegression(class_weight='balanced', n_jobs=-1)\n",
        "LR_results = evaluate_model(lr, X_train, y_train, X_test, y_test, label)"
      ],
      "metadata": {
        "colab": {
          "base_uri": "https://localhost:8080/",
          "height": 996
        },
        "id": "igz4L_W1SPoc",
        "outputId": "5726f216-39b7-4d32-f5c3-754b3eac9c9f"
      },
      "execution_count": null,
      "outputs": [
        {
          "output_type": "stream",
          "name": "stdout",
          "text": [
            "Results for LogisticRegression:\n",
            "\n",
            "Training time (sec) = 1.157270908355713\n",
            "Prediction time (sec) = 0.0004279613494873047\n",
            "\n",
            "Training score = 0.8783913905409233\n",
            "Testing score = 0.7850045167118338\n",
            "\n",
            "No of misclassified for class Yes (test data) = 7\n",
            "No of misclassified for class No (test data) = 7\n",
            "Total no of misclassified points (test data) = 14\n",
            "Total % of misclassified points (test data) = 0.20588235294117646\n",
            "\n",
            "Training log_loss = 0.2942491988294589\n",
            "Testing log_loss = 0.423534999507198\n",
            "\n",
            "Confusion matrix:\n"
          ]
        },
        {
          "output_type": "display_data",
          "data": {
            "text/plain": [
              "<Figure size 640x480 with 2 Axes>"
            ],
            "image/png": "[encoded data removed]"
          },
          "metadata": {}
        },
        {
          "output_type": "stream",
          "name": "stdout",
          "text": [
            "Classification report:\n",
            "\n",
            "              precision    recall  f1-score   support\n",
            "\n",
            "          No       0.74      0.74      0.74        27\n",
            "         Yes       0.83      0.83      0.83        41\n",
            "\n",
            "    accuracy                           0.79        68\n",
            "   macro avg       0.79      0.79      0.79        68\n",
            "weighted avg       0.79      0.79      0.79        68\n",
            "\n",
            "**************************************************************************\n"
          ]
        }
      ]
    },
    {
      "cell_type": "code",
      "source": [
        "from sklearn.svm import LinearSVC\n",
        "lsvc = LinearSVC(class_weight='balanced')\n",
        "LSVC_results = evaluate_model(lsvc, X_train, y_train, X_test, y_test, label)"
      ],
      "metadata": {
        "colab": {
          "base_uri": "https://localhost:8080/",
          "height": 942
        },
        "id": "pnNkPayTTvv6",
        "outputId": "8098bcc8-fb92-449e-c11d-ef529f4002dd"
      },
      "execution_count": null,
      "outputs": [
        {
          "output_type": "stream",
          "name": "stdout",
          "text": [
            "Results for LinearSVC:\n",
            "\n",
            "Training time (sec) = 0.026465654373168945\n",
            "Prediction time (sec) = 0.0002551078796386719\n",
            "\n",
            "Training score = 0.8753610875106201\n",
            "Testing score = 0.7542908762420958\n",
            "\n",
            "No of misclassified for class Yes (test data) = 8\n",
            "No of misclassified for class No (test data) = 8\n",
            "Total no of misclassified points (test data) = 16\n",
            "Total % of misclassified points (test data) = 0.23529411764705882\n",
            "\n",
            "Confusion matrix:\n"
          ]
        },
        {
          "output_type": "display_data",
          "data": {
            "text/plain": [
              "<Figure size 640x480 with 2 Axes>"
            ],
            "image/png": "[encoded data removed]"
          },
          "metadata": {}
        },
        {
          "output_type": "stream",
          "name": "stdout",
          "text": [
            "Classification report:\n",
            "\n",
            "              precision    recall  f1-score   support\n",
            "\n",
            "          No       0.70      0.70      0.70        27\n",
            "         Yes       0.80      0.80      0.80        41\n",
            "\n",
            "    accuracy                           0.76        68\n",
            "   macro avg       0.75      0.75      0.75        68\n",
            "weighted avg       0.76      0.76      0.76        68\n",
            "\n",
            "**************************************************************************\n"
          ]
        }
      ]
    },
    {
      "cell_type": "code",
      "source": [
        "from sklearn.tree import DecisionTreeClassifier\n",
        "dtc = DecisionTreeClassifier(class_weight='balanced')\n",
        "DTC_results = evaluate_model(dtc, X_train, y_train, X_test, y_test, label)"
      ],
      "metadata": {
        "colab": {
          "base_uri": "https://localhost:8080/",
          "height": 996
        },
        "id": "VMkgDJnhUKeZ",
        "outputId": "da508274-027e-4b77-d329-a2e7c56e2b07"
      },
      "execution_count": null,
      "outputs": [
        {
          "output_type": "stream",
          "name": "stdout",
          "text": [
            "Results for DecisionTreeClassifier:\n",
            "\n",
            "Training time (sec) = 0.004636049270629883\n",
            "Prediction time (sec) = 0.00012946128845214844\n",
            "\n",
            "Training score = 1.0\n",
            "Testing score = 0.7791327913279134\n",
            "\n",
            "No of misclassified for class Yes (test data) = 6\n",
            "No of misclassified for class No (test data) = 9\n",
            "Total no of misclassified points (test data) = 15\n",
            "Total % of misclassified points (test data) = 0.22058823529411764\n",
            "\n",
            "Training log_loss = 2.2204460492503136e-16\n",
            "Testing log_loss = 7.950805894658195\n",
            "\n",
            "Confusion matrix:\n"
          ]
        },
        {
          "output_type": "display_data",
          "data": {
            "text/plain": [
              "<Figure size 640x480 with 2 Axes>"
            ],
            "image/png": "[encoded data removed]"
          },
          "metadata": {}
        },
        {
          "output_type": "stream",
          "name": "stdout",
          "text": [
            "Classification report:\n",
            "\n",
            "              precision    recall  f1-score   support\n",
            "\n",
            "          No       0.70      0.78      0.74        27\n",
            "         Yes       0.84      0.78      0.81        41\n",
            "\n",
            "    accuracy                           0.78        68\n",
            "   macro avg       0.77      0.78      0.77        68\n",
            "weighted avg       0.79      0.78      0.78        68\n",
            "\n",
            "**************************************************************************\n"
          ]
        }
      ]
    },
    {
      "cell_type": "code",
      "source": [
        "from sklearn.ensemble import ExtraTreesClassifier\n",
        "etc = ExtraTreesClassifier(class_weight='balanced')\n",
        "ETC_results = evaluate_model(etc, X_train, y_train, X_test, y_test, label)"
      ],
      "metadata": {
        "colab": {
          "base_uri": "https://localhost:8080/",
          "height": 996
        },
        "id": "m8d0AwslU6cd",
        "outputId": "46670da0-b50f-427f-b461-1d2e8aaa8acb"
      },
      "execution_count": null,
      "outputs": [
        {
          "output_type": "stream",
          "name": "stdout",
          "text": [
            "Results for ExtraTreesClassifier:\n",
            "\n",
            "Training time (sec) = 0.16802740097045898\n",
            "Prediction time (sec) = 0.006135463714599609\n",
            "\n",
            "Training score = 1.0\n",
            "Testing score = 0.8396567299006323\n",
            "\n",
            "No of misclassified for class Yes (test data) = 8\n",
            "No of misclassified for class No (test data) = 1\n",
            "Total no of misclassified points (test data) = 9\n",
            "Total % of misclassified points (test data) = 0.1323529411764706\n",
            "\n",
            "Training log_loss = 2.2204460492503136e-16\n",
            "Testing log_loss = 0.45152392757349924\n",
            "\n",
            "Confusion matrix:\n"
          ]
        },
        {
          "output_type": "display_data",
          "data": {
            "text/plain": [
              "<Figure size 640x480 with 2 Axes>"
            ],
            "image/png": "[encoded data removed]"
          },
          "metadata": {}
        },
        {
          "output_type": "stream",
          "name": "stdout",
          "text": [
            "Classification report:\n",
            "\n",
            "              precision    recall  f1-score   support\n",
            "\n",
            "          No       0.95      0.70      0.81        27\n",
            "         Yes       0.83      0.98      0.90        41\n",
            "\n",
            "    accuracy                           0.87        68\n",
            "   macro avg       0.89      0.84      0.85        68\n",
            "weighted avg       0.88      0.87      0.86        68\n",
            "\n",
            "**************************************************************************\n"
          ]
        }
      ]
    },
    {
      "cell_type": "code",
      "source": [
        "from sklearn.ensemble import RandomForestClassifier\n",
        "rfc = RandomForestClassifier(class_weight='balanced')\n",
        "RFC_results = evaluate_model(rfc, X_train, y_train, X_test, y_test, label)"
      ],
      "metadata": {
        "colab": {
          "base_uri": "https://localhost:8080/",
          "height": 996
        },
        "id": "KydMMjbuU7a5",
        "outputId": "bc3a3cb8-f465-49ba-ae9e-5c73823fe21b"
      },
      "execution_count": null,
      "outputs": [
        {
          "output_type": "stream",
          "name": "stdout",
          "text": [
            "Results for RandomForestClassifier:\n",
            "\n",
            "Training time (sec) = 0.17262935638427734\n",
            "Prediction time (sec) = 0.0071065425872802734\n",
            "\n",
            "Training score = 1.0\n",
            "Testing score = 0.8089430894308942\n",
            "\n",
            "No of misclassified for class Yes (test data) = 9\n",
            "No of misclassified for class No (test data) = 2\n",
            "Total no of misclassified points (test data) = 11\n",
            "Total % of misclassified points (test data) = 0.16176470588235295\n",
            "\n",
            "Training log_loss = 0.10724370414025537\n",
            "Testing log_loss = 0.4445634423014966\n",
            "\n",
            "Confusion matrix:\n"
          ]
        },
        {
          "output_type": "display_data",
          "data": {
            "text/plain": [
              "<Figure size 640x480 with 2 Axes>"
            ],
            "image/png": "[encoded data removed]"
          },
          "metadata": {}
        },
        {
          "output_type": "stream",
          "name": "stdout",
          "text": [
            "Classification report:\n",
            "\n",
            "              precision    recall  f1-score   support\n",
            "\n",
            "          No       0.90      0.67      0.77        27\n",
            "         Yes       0.81      0.95      0.88        41\n",
            "\n",
            "    accuracy                           0.84        68\n",
            "   macro avg       0.86      0.81      0.82        68\n",
            "weighted avg       0.85      0.84      0.83        68\n",
            "\n",
            "**************************************************************************\n"
          ]
        }
      ]
    },
    {
      "cell_type": "code",
      "source": [
        "s1=[LR_results,LSVC_results,DTC_results,ETC_results,RFC_results]\n",
        "s2=['LR','LSVC','DTC','ETC','RFC']\n",
        "col=['Train score','Test score','Missclassified-point','% missclasification','Train log-loss','Test log-loss','Training time','Prediction time']\n",
        "result=dict.fromkeys(s2,None)\n",
        "\n",
        "for i in range(len(s1)):\n",
        "    result[s2[i]] = s1[i]\n",
        "\n",
        "temp = pd.DataFrame.from_dict(result, orient='index',columns=col).reset_index()\n",
        "result = temp.rename(columns={'index':'Classifiers'})\n",
        "result"
      ],
      "metadata": {
        "colab": {
          "base_uri": "https://localhost:8080/",
          "height": 330
        },
        "id": "FpZDJPYiVLPs",
        "outputId": "85ed7661-3895-4789-ef33-2fee762b113a"
      },
      "execution_count": null,
      "outputs": [
        {
          "output_type": "execute_result",
          "data": {
            "text/plain": [
              "  Classifiers  Train score  Test score  Missclassified-point  \\\n",
              "0          LR     0.878391    0.785005                    14   \n",
              "1        LSVC     0.875361    0.754291                    16   \n",
              "2         DTC     1.000000    0.779133                    15   \n",
              "3         ETC     1.000000    0.839657                     9   \n",
              "4         RFC     1.000000    0.808943                    11   \n",
              "\n",
              "   % missclasification  Train log-loss  Test log-loss  Training time  \\\n",
              "0             0.205882    2.942492e-01       0.423535       1.157271   \n",
              "1             0.235294             NaN            NaN       0.026466   \n",
              "2             0.220588    2.220446e-16       7.950806       0.004636   \n",
              "3             0.132353    2.220446e-16       0.451524       0.168027   \n",
              "4             0.161765    1.072437e-01       0.444563       0.172629   \n",
              "\n",
              "   Prediction time  \n",
              "0         0.000428  \n",
              "1         0.000255  \n",
              "2         0.000129  \n",
              "3         0.006135  \n",
              "4         0.007107  "
            ],
            "text/html": [
              "\n",
              "  <div id=\"df-0a417210-6baf-4f18-995c-d18bb727c0ce\" class=\"colab-df-container\">\n",
              "    <div>\n",
              "<style scoped>\n",
              "    .dataframe tbody tr th:only-of-type {\n",
              "        vertical-align: middle;\n",
              "    }\n",
              "\n",
              "    .dataframe tbody tr th {\n",
              "        vertical-align: top;\n",
              "    }\n",
              "\n",
              "    .dataframe thead th {\n",
              "        text-align: right;\n",
              "    }\n",
              "</style>\n",
              "<table border=\"1\" class=\"dataframe\">\n",
              "  <thead>\n",
              "    <tr style=\"text-align: right;\">\n",
              "      <th></th>\n",
              "      <th>Classifiers</th>\n",
              "      <th>Train score</th>\n",
              "      <th>Test score</th>\n",
              "      <th>Missclassified-point</th>\n",
              "      <th>% missclasification</th>\n",
              "      <th>Train log-loss</th>\n",
              "      <th>Test log-loss</th>\n",
              "      <th>Training time</th>\n",
              "      <th>Prediction time</th>\n",
              "    </tr>\n",
              "  </thead>\n",
              "  <tbody>\n",
              "    <tr>\n",
              "      <th>0</th>\n",
              "      <td>LR</td>\n",
              "      <td>0.878391</td>\n",
              "      <td>0.785005</td>\n",
              "      <td>14</td>\n",
              "      <td>0.205882</td>\n",
              "      <td>2.942492e-01</td>\n",
              "      <td>0.423535</td>\n",
              "      <td>1.157271</td>\n",
              "      <td>0.000428</td>\n",
              "    </tr>\n",
              "    <tr>\n",
              "      <th>1</th>\n",
              "      <td>LSVC</td>\n",
              "      <td>0.875361</td>\n",
              "      <td>0.754291</td>\n",
              "      <td>16</td>\n",
              "      <td>0.235294</td>\n",
              "      <td>NaN</td>\n",
              "      <td>NaN</td>\n",
              "      <td>0.026466</td>\n",
              "      <td>0.000255</td>\n",
              "    </tr>\n",
              "    <tr>\n",
              "      <th>2</th>\n",
              "      <td>DTC</td>\n",
              "      <td>1.000000</td>\n",
              "      <td>0.779133</td>\n",
              "      <td>15</td>\n",
              "      <td>0.220588</td>\n",
              "      <td>2.220446e-16</td>\n",
              "      <td>7.950806</td>\n",
              "      <td>0.004636</td>\n",
              "      <td>0.000129</td>\n",
              "    </tr>\n",
              "    <tr>\n",
              "      <th>3</th>\n",
              "      <td>ETC</td>\n",
              "      <td>1.000000</td>\n",
              "      <td>0.839657</td>\n",
              "      <td>9</td>\n",
              "      <td>0.132353</td>\n",
              "      <td>2.220446e-16</td>\n",
              "      <td>0.451524</td>\n",
              "      <td>0.168027</td>\n",
              "      <td>0.006135</td>\n",
              "    </tr>\n",
              "    <tr>\n",
              "      <th>4</th>\n",
              "      <td>RFC</td>\n",
              "      <td>1.000000</td>\n",
              "      <td>0.808943</td>\n",
              "      <td>11</td>\n",
              "      <td>0.161765</td>\n",
              "      <td>1.072437e-01</td>\n",
              "      <td>0.444563</td>\n",
              "      <td>0.172629</td>\n",
              "      <td>0.007107</td>\n",
              "    </tr>\n",
              "  </tbody>\n",
              "</table>\n",
              "</div>\n",
              "    <div class=\"colab-df-buttons\">\n",
              "\n",
              "  <div class=\"colab-df-container\">\n",
              "    <button class=\"colab-df-convert\" onclick=\"convertToInteractive('df-0a417210-6baf-4f18-995c-d18bb727c0ce')\"\n",
              "            title=\"Convert this dataframe to an interactive table.\"\n",
              "            style=\"display:none;\">\n",
              "\n",
              "  <svg xmlns=\"http://www.w3.org/2000/svg\" height=\"24px\" viewBox=\"0 -960 960 960\">\n",
              "    <path d=\"M120-120v-720h720v720H120Zm60-500h600v-160H180v160Zm220 220h160v-160H400v160Zm0 220h160v-160H400v160ZM180-400h160v-160H180v160Zm440 0h160v-160H620v160ZM180-180h160v-160H180v160Zm440 0h160v-160H620v160Z\"/>\n",
              "  </svg>\n",
              "    </button>\n",
              "\n",
              "  <style>\n",
              "    .colab-df-container {\n",
              "      display:flex;\n",
              "      gap: 12px;\n",
              "    }\n",
              "\n",
              "    .colab-df-convert {\n",
              "      background-color: #E8F0FE;\n",
              "      border: none;\n",
              "      border-radius: 50%;\n",
              "      cursor: pointer;\n",
              "      display: none;\n",
              "      fill: #1967D2;\n",
              "      height: 32px;\n",
              "      padding: 0 0 0 0;\n",
              "      width: 32px;\n",
              "    }\n",
              "\n",
              "    .colab-df-convert:hover {\n",
              "      background-color: #E2EBFA;\n",
              "      box-shadow: 0px 1px 2px rgba(60, 64, 67, 0.3), 0px 1px 3px 1px rgba(60, 64, 67, 0.15);\n",
              "      fill: #174EA6;\n",
              "    }\n",
              "\n",
              "    .colab-df-buttons div {\n",
              "      margin-bottom: 4px;\n",
              "    }\n",
              "\n",
              "    [theme=dark] .colab-df-convert {\n",
              "      background-color: #3B4455;\n",
              "      fill: #D2E3FC;\n",
              "    }\n",
              "\n",
              "    [theme=dark] .colab-df-convert:hover {\n",
              "      background-color: #434B5C;\n",
              "      box-shadow: 0px 1px 3px 1px rgba(0, 0, 0, 0.15);\n",
              "      filter: drop-shadow(0px 1px 2px rgba(0, 0, 0, 0.3));\n",
              "      fill: #FFFFFF;\n",
              "    }\n",
              "  </style>\n",
              "\n",
              "    <script>\n",
              "      const buttonEl =\n",
              "        document.querySelector('#df-0a417210-6baf-4f18-995c-d18bb727c0ce button.colab-df-convert');\n",
              "      buttonEl.style.display =\n",
              "        google.colab.kernel.accessAllowed ? 'block' : 'none';\n",
              "\n",
              "      async function convertToInteractive(key) {\n",
              "        const element = document.querySelector('#df-0a417210-6baf-4f18-995c-d18bb727c0ce');\n",
              "        const dataTable =\n",
              "          await google.colab.kernel.invokeFunction('convertToInteractive',\n",
              "                                                    [key], {});\n",
              "        if (!dataTable) return;\n",
              "\n",
              "        const docLinkHtml = 'Like what you see? Visit the ' +\n",
              "          '<a target=\"_blank\" href=https://colab.research.google.com/notebooks/data_table.ipynb>data table notebook</a>'\n",
              "          + ' to learn more about interactive tables.';\n",
              "        element.innerHTML = '';\n",
              "        dataTable['output_type'] = 'display_data';\n",
              "        await google.colab.output.renderOutput(dataTable, element);\n",
              "        const docLink = document.createElement('div');\n",
              "        docLink.innerHTML = docLinkHtml;\n",
              "        element.appendChild(docLink);\n",
              "      }\n",
              "    </script>\n",
              "  </div>\n",
              "\n",
              "\n",
              "<div id=\"df-18d99241-d5ad-4211-80cd-110c30e09651\">\n",
              "  <button class=\"colab-df-quickchart\" onclick=\"quickchart('df-18d99241-d5ad-4211-80cd-110c30e09651')\"\n",
              "            title=\"Suggest charts\"\n",
              "            style=\"display:none;\">\n",
              "\n",
              "<svg xmlns=\"http://www.w3.org/2000/svg\" height=\"24px\"viewBox=\"0 0 24 24\"\n",
              "     width=\"24px\">\n",
              "    <g>\n",
              "        <path d=\"M19 3H5c-1.1 0-2 .9-2 2v14c0 1.1.9 2 2 2h14c1.1 0 2-.9 2-2V5c0-1.1-.9-2-2-2zM9 17H7v-7h2v7zm4 0h-2V7h2v10zm4 0h-2v-4h2v4z\"/>\n",
              "    </g>\n",
              "</svg>\n",
              "  </button>\n",
              "\n",
              "<style>\n",
              "  .colab-df-quickchart {\n",
              "      --bg-color: #E8F0FE;\n",
              "      --fill-color: #1967D2;\n",
              "      --hover-bg-color: #E2EBFA;\n",
              "      --hover-fill-color: #174EA6;\n",
              "      --disabled-fill-color: #AAA;\n",
              "      --disabled-bg-color: #DDD;\n",
              "  }\n",
              "\n",
              "  [theme=dark] .colab-df-quickchart {\n",
              "      --bg-color: #3B4455;\n",
              "      --fill-color: #D2E3FC;\n",
              "      --hover-bg-color: #434B5C;\n",
              "      --hover-fill-color: #FFFFFF;\n",
              "      --disabled-bg-color: #3B4455;\n",
              "      --disabled-fill-color: #666;\n",
              "  }\n",
              "\n",
              "  .colab-df-quickchart {\n",
              "    background-color: var(--bg-color);\n",
              "    border: none;\n",
              "    border-radius: 50%;\n",
              "    cursor: pointer;\n",
              "    display: none;\n",
              "    fill: var(--fill-color);\n",
              "    height: 32px;\n",
              "    padding: 0;\n",
              "    width: 32px;\n",
              "  }\n",
              "\n",
              "  .colab-df-quickchart:hover {\n",
              "    background-color: var(--hover-bg-color);\n",
              "    box-shadow: 0 1px 2px rgba(60, 64, 67, 0.3), 0 1px 3px 1px rgba(60, 64, 67, 0.15);\n",
              "    fill: var(--button-hover-fill-color);\n",
              "  }\n",
              "\n",
              "  .colab-df-quickchart-complete:disabled,\n",
              "  .colab-df-quickchart-complete:disabled:hover {\n",
              "    background-color: var(--disabled-bg-color);\n",
              "    fill: var(--disabled-fill-color);\n",
              "    box-shadow: none;\n",
              "  }\n",
              "\n",
              "  .colab-df-spinner {\n",
              "    border: 2px solid var(--fill-color);\n",
              "    border-color: transparent;\n",
              "    border-bottom-color: var(--fill-color);\n",
              "    animation:\n",
              "      spin 1s steps(1) infinite;\n",
              "  }\n",
              "\n",
              "  @keyframes spin {\n",
              "    0% {\n",
              "      border-color: transparent;\n",
              "      border-bottom-color: var(--fill-color);\n",
              "      border-left-color: var(--fill-color);\n",
              "    }\n",
              "    20% {\n",
              "      border-color: transparent;\n",
              "      border-left-color: var(--fill-color);\n",
              "      border-top-color: var(--fill-color);\n",
              "    }\n",
              "    30% {\n",
              "      border-color: transparent;\n",
              "      border-left-color: var(--fill-color);\n",
              "      border-top-color: var(--fill-color);\n",
              "      border-right-color: var(--fill-color);\n",
              "    }\n",
              "    40% {\n",
              "      border-color: transparent;\n",
              "      border-right-color: var(--fill-color);\n",
              "      border-top-color: var(--fill-color);\n",
              "    }\n",
              "    60% {\n",
              "      border-color: transparent;\n",
              "      border-right-color: var(--fill-color);\n",
              "    }\n",
              "    80% {\n",
              "      border-color: transparent;\n",
              "      border-right-color: var(--fill-color);\n",
              "      border-bottom-color: var(--fill-color);\n",
              "    }\n",
              "    90% {\n",
              "      border-color: transparent;\n",
              "      border-bottom-color: var(--fill-color);\n",
              "    }\n",
              "  }\n",
              "</style>\n",
              "\n",
              "  <script>\n",
              "    async function quickchart(key) {\n",
              "      const quickchartButtonEl =\n",
              "        document.querySelector('#' + key + ' button');\n",
              "      quickchartButtonEl.disabled = true;  // To prevent multiple clicks.\n",
              "      quickchartButtonEl.classList.add('colab-df-spinner');\n",
              "      try {\n",
              "        const charts = await google.colab.kernel.invokeFunction(\n",
              "            'suggestCharts', [key], {});\n",
              "      } catch (error) {\n",
              "        console.error('Error during call to suggestCharts:', error);\n",
              "      }\n",
              "      quickchartButtonEl.classList.remove('colab-df-spinner');\n",
              "      quickchartButtonEl.classList.add('colab-df-quickchart-complete');\n",
              "    }\n",
              "    (() => {\n",
              "      let quickchartButtonEl =\n",
              "        document.querySelector('#df-18d99241-d5ad-4211-80cd-110c30e09651 button');\n",
              "      quickchartButtonEl.style.display =\n",
              "        google.colab.kernel.accessAllowed ? 'block' : 'none';\n",
              "    })();\n",
              "  </script>\n",
              "</div>\n",
              "\n",
              "  <div id=\"id_e2797f39-2503-4653-a0d2-650663a86951\">\n",
              "    <style>\n",
              "      .colab-df-generate {\n",
              "        background-color: #E8F0FE;\n",
              "        border: none;\n",
              "        border-radius: 50%;\n",
              "        cursor: pointer;\n",
              "        display: none;\n",
              "        fill: #1967D2;\n",
              "        height: 32px;\n",
              "        padding: 0 0 0 0;\n",
              "        width: 32px;\n",
              "      }\n",
              "\n",
              "      .colab-df-generate:hover {\n",
              "        background-color: #E2EBFA;\n",
              "        box-shadow: 0px 1px 2px rgba(60, 64, 67, 0.3), 0px 1px 3px 1px rgba(60, 64, 67, 0.15);\n",
              "        fill: #174EA6;\n",
              "      }\n",
              "\n",
              "      [theme=dark] .colab-df-generate {\n",
              "        background-color: #3B4455;\n",
              "        fill: #D2E3FC;\n",
              "      }\n",
              "\n",
              "      [theme=dark] .colab-df-generate:hover {\n",
              "        background-color: #434B5C;\n",
              "        box-shadow: 0px 1px 3px 1px rgba(0, 0, 0, 0.15);\n",
              "        filter: drop-shadow(0px 1px 2px rgba(0, 0, 0, 0.3));\n",
              "        fill: #FFFFFF;\n",
              "      }\n",
              "    </style>\n",
              "    <button class=\"colab-df-generate\" onclick=\"generateWithVariable('result')\"\n",
              "            title=\"Generate code using this dataframe.\"\n",
              "            style=\"display:none;\">\n",
              "\n",
              "  <svg xmlns=\"http://www.w3.org/2000/svg\" height=\"24px\"viewBox=\"0 0 24 24\"\n",
              "       width=\"24px\">\n",
              "    <path d=\"M7,19H8.4L18.45,9,17,7.55,7,17.6ZM5,21V16.75L18.45,3.32a2,2,0,0,1,2.83,0l1.4,1.43a1.91,1.91,0,0,1,.58,1.4,1.91,1.91,0,0,1-.58,1.4L9.25,21ZM18.45,9,17,7.55Zm-12,3A5.31,5.31,0,0,0,4.9,8.1,5.31,5.31,0,0,0,1,6.5,5.31,5.31,0,0,0,4.9,4.9,5.31,5.31,0,0,0,6.5,1,5.31,5.31,0,0,0,8.1,4.9,5.31,5.31,0,0,0,12,6.5,5.46,5.46,0,0,0,6.5,12Z\"/>\n",
              "  </svg>\n",
              "    </button>\n",
              "    <script>\n",
              "      (() => {\n",
              "      const buttonEl =\n",
              "        document.querySelector('#id_e2797f39-2503-4653-a0d2-650663a86951 button.colab-df-generate');\n",
              "      buttonEl.style.display =\n",
              "        google.colab.kernel.accessAllowed ? 'block' : 'none';\n",
              "\n",
              "      buttonEl.onclick = () => {\n",
              "        google.colab.notebook.generateWithVariable('result');\n",
              "      }\n",
              "      })();\n",
              "    </script>\n",
              "  </div>\n",
              "\n",
              "    </div>\n",
              "  </div>\n"
            ],
            "application/vnd.google.colaboratory.intrinsic+json": {
              "type": "dataframe",
              "variable_name": "result",
              "summary": "{\n  \"name\": \"result\",\n  \"rows\": 5,\n  \"fields\": [\n    {\n      \"column\": \"Classifiers\",\n      \"properties\": {\n        \"dtype\": \"string\",\n        \"num_unique_values\": 5,\n        \"samples\": [\n          \"LSVC\",\n          \"RFC\",\n          \"DTC\"\n        ],\n        \"semantic_type\": \"\",\n        \"description\": \"\"\n      }\n    },\n    {\n      \"column\": \"Train score\",\n      \"properties\": {\n        \"dtype\": \"number\",\n        \"std\": 0.06744617110695464,\n        \"min\": 0.8753610875106201,\n        \"max\": 1.0,\n        \"num_unique_values\": 3,\n        \"samples\": [\n          0.8783913905409233,\n          0.8753610875106201,\n          1.0\n        ],\n        \"semantic_type\": \"\",\n        \"description\": \"\"\n      }\n    },\n    {\n      \"column\": \"Test score\",\n      \"properties\": {\n        \"dtype\": \"number\",\n        \"std\": 0.03234514444766852,\n        \"min\": 0.7542908762420958,\n        \"max\": 0.8396567299006323,\n        \"num_unique_values\": 5,\n        \"samples\": [\n          0.7542908762420958,\n          0.8089430894308942,\n          0.7791327913279134\n        ],\n        \"semantic_type\": \"\",\n        \"description\": \"\"\n      }\n    },\n    {\n      \"column\": \"Missclassified-point\",\n      \"properties\": {\n        \"dtype\": \"number\",\n        \"std\": 2,\n        \"min\": 9,\n        \"max\": 16,\n        \"num_unique_values\": 5,\n        \"samples\": [\n          16,\n          11,\n          15\n        ],\n        \"semantic_type\": \"\",\n        \"description\": \"\"\n      }\n    },\n    {\n      \"column\": \"% missclasification\",\n      \"properties\": {\n        \"dtype\": \"number\",\n        \"std\": 0.042874646285627205,\n        \"min\": 0.1323529411764706,\n        \"max\": 0.23529411764705882,\n        \"num_unique_values\": 5,\n        \"samples\": [\n          0.23529411764705882,\n          0.16176470588235295,\n          0.22058823529411764\n        ],\n        \"semantic_type\": \"\",\n        \"description\": \"\"\n      }\n    },\n    {\n      \"column\": \"Train log-loss\",\n      \"properties\": {\n        \"dtype\": \"number\",\n        \"std\": 0.13878600470477184,\n        \"min\": 2.2204460492503136e-16,\n        \"max\": 0.2942491988294589,\n        \"num_unique_values\": 3,\n        \"samples\": [\n          0.2942491988294589,\n          2.2204460492503136e-16,\n          0.10724370414025537\n        ],\n        \"semantic_type\": \"\",\n        \"description\": \"\"\n      }\n    },\n    {\n      \"column\": \"Test log-loss\",\n      \"properties\": {\n        \"dtype\": \"number\",\n        \"std\": 3.7554847326748515,\n        \"min\": 0.423534999507198,\n        \"max\": 7.950805894658195,\n        \"num_unique_values\": 4,\n        \"samples\": [\n          7.950805894658195,\n          0.4445634423014966,\n          0.423534999507198\n        ],\n        \"semantic_type\": \"\",\n        \"description\": \"\"\n      }\n    },\n    {\n      \"column\": \"Training time\",\n      \"properties\": {\n        \"dtype\": \"number\",\n        \"std\": 0.4822980973510221,\n        \"min\": 0.004636049270629883,\n        \"max\": 1.157270908355713,\n        \"num_unique_values\": 5,\n        \"samples\": [\n          0.026465654373168945,\n          0.17262935638427734,\n          0.004636049270629883\n        ],\n        \"semantic_type\": \"\",\n        \"description\": \"\"\n      }\n    },\n    {\n      \"column\": \"Prediction time\",\n      \"properties\": {\n        \"dtype\": \"number\",\n        \"std\": 0.0034966359786304927,\n        \"min\": 0.00012946128845214844,\n        \"max\": 0.0071065425872802734,\n        \"num_unique_values\": 5,\n        \"samples\": [\n          0.0002551078796386719,\n          0.0071065425872802734,\n          0.00012946128845214844\n        ],\n        \"semantic_type\": \"\",\n        \"description\": \"\"\n      }\n    }\n  ]\n}"
            }
          },
          "metadata": {},
          "execution_count": 50
        }
      ]
    },
    {
      "cell_type": "code",
      "source": [
        "column_transformer"
      ],
      "metadata": {
        "colab": {
          "base_uri": "https://localhost:8080/",
          "height": 116
        },
        "id": "ZeR4vwgLWTJT",
        "outputId": "a89b6759-7280-43e4-b5e3-deafff575f03"
      },
      "execution_count": null,
      "outputs": [
        {
          "output_type": "execute_result",
          "data": {
            "text/plain": [
              "ColumnTransformer(transformers=[('standardscaler', StandardScaler(),\n",
              "                                 ['What is your age?',\n",
              "                                  'How often do you find yourself using Social '\n",
              "                                  'media without a specific purpose?',\n",
              "                                  'How often do you get distracted by Social '\n",
              "                                  'media when you are busy doing something?',\n",
              "                                  \"Do you feel restless if you haven't used \"\n",
              "                                  'Social media in a while?',\n",
              "                                  'On a scale of 1 to 5, how easily distracted '\n",
              "                                  'are you?',\n",
              "                                  'On a scale of 1 to 5, ho...\n",
              "                                ('onehotencoder',\n",
              "                                 OneHotEncoder(handle_unknown='ignore'),\n",
              "                                 ['Gender', 'Relationship Status',\n",
              "                                  'Occupation Status',\n",
              "                                  'Do you use social media?',\n",
              "                                  'What is the average time you spend on '\n",
              "                                  'social media every day?']),\n",
              "                                ('countvectorizer-1', CountVectorizer(),\n",
              "                                 'What type of organizations are you '\n",
              "                                 'affiliated with?'),\n",
              "                                ('countvectorizer-2', CountVectorizer(),\n",
              "                                 'What social media platforms do you commonly '\n",
              "                                 'use?')])"
            ],
            "text/html": [
              "<style>#sk-container-id-1 {color: black;background-color: white;}#sk-container-id-1 pre{padding: 0;}#sk-container-id-1 div.sk-toggleable {background-color: white;}#sk-container-id-1 label.sk-toggleable__label {cursor: pointer;display: block;width: 100%;margin-bottom: 0;padding: 0.3em;box-sizing: border-box;text-align: center;}#sk-container-id-1 label.sk-toggleable__label-arrow:before {content: \"▸\";float: left;margin-right: 0.25em;color: #696969;}#sk-container-id-1 label.sk-toggleable__label-arrow:hover:before {color: black;}#sk-container-id-1 div.sk-estimator:hover label.sk-toggleable__label-arrow:before {color: black;}#sk-container-id-1 div.sk-toggleable__content {max-height: 0;max-width: 0;overflow: hidden;text-align: left;background-color: #f0f8ff;}#sk-container-id-1 div.sk-toggleable__content pre {margin: 0.2em;color: black;border-radius: 0.25em;background-color: #f0f8ff;}#sk-container-id-1 input.sk-toggleable__control:checked~div.sk-toggleable__content {max-height: 200px;max-width: 100%;overflow: auto;}#sk-container-id-1 input.sk-toggleable__control:checked~label.sk-toggleable__label-arrow:before {content: \"▾\";}#sk-container-id-1 div.sk-estimator input.sk-toggleable__control:checked~label.sk-toggleable__label {background-color: #d4ebff;}#sk-container-id-1 div.sk-label input.sk-toggleable__control:checked~label.sk-toggleable__label {background-color: #d4ebff;}#sk-container-id-1 input.sk-hidden--visually {border: 0;clip: rect(1px 1px 1px 1px);clip: rect(1px, 1px, 1px, 1px);height: 1px;margin: -1px;overflow: hidden;padding: 0;position: absolute;width: 1px;}#sk-container-id-1 div.sk-estimator {font-family: monospace;background-color: #f0f8ff;border: 1px dotted black;border-radius: 0.25em;box-sizing: border-box;margin-bottom: 0.5em;}#sk-container-id-1 div.sk-estimator:hover {background-color: #d4ebff;}#sk-container-id-1 div.sk-parallel-item::after {content: \"\";width: 100%;border-bottom: 1px solid gray;flex-grow: 1;}#sk-container-id-1 div.sk-label:hover label.sk-toggleable__label {background-color: #d4ebff;}#sk-container-id-1 div.sk-serial::before {content: \"\";position: absolute;border-left: 1px solid gray;box-sizing: border-box;top: 0;bottom: 0;left: 50%;z-index: 0;}#sk-container-id-1 div.sk-serial {display: flex;flex-direction: column;align-items: center;background-color: white;padding-right: 0.2em;padding-left: 0.2em;position: relative;}#sk-container-id-1 div.sk-item {position: relative;z-index: 1;}#sk-container-id-1 div.sk-parallel {display: flex;align-items: stretch;justify-content: center;background-color: white;position: relative;}#sk-container-id-1 div.sk-item::before, #sk-container-id-1 div.sk-parallel-item::before {content: \"\";position: absolute;border-left: 1px solid gray;box-sizing: border-box;top: 0;bottom: 0;left: 50%;z-index: -1;}#sk-container-id-1 div.sk-parallel-item {display: flex;flex-direction: column;z-index: 1;position: relative;background-color: white;}#sk-container-id-1 div.sk-parallel-item:first-child::after {align-self: flex-end;width: 50%;}#sk-container-id-1 div.sk-parallel-item:last-child::after {align-self: flex-start;width: 50%;}#sk-container-id-1 div.sk-parallel-item:only-child::after {width: 0;}#sk-container-id-1 div.sk-dashed-wrapped {border: 1px dashed gray;margin: 0 0.4em 0.5em 0.4em;box-sizing: border-box;padding-bottom: 0.4em;background-color: white;}#sk-container-id-1 div.sk-label label {font-family: monospace;font-weight: bold;display: inline-block;line-height: 1.2em;}#sk-container-id-1 div.sk-label-container {text-align: center;}#sk-container-id-1 div.sk-container {/* jupyter's `normalize.less` sets `[hidden] { display: none; }` but bootstrap.min.css set `[hidden] { display: none !important; }` so we also need the `!important` here to be able to override the default hidden behavior on the sphinx rendered scikit-learn.org. See: https://github.com/scikit-learn/scikit-learn/issues/21755 */display: inline-block !important;position: relative;}#sk-container-id-1 div.sk-text-repr-fallback {display: none;}</style><div id=\"sk-container-id-1\" class=\"sk-top-container\"><div class=\"sk-text-repr-fallback\"><pre>ColumnTransformer(transformers=[(&#x27;standardscaler&#x27;, StandardScaler(),\n",
              "                                 [&#x27;What is your age?&#x27;,\n",
              "                                  &#x27;How often do you find yourself using Social &#x27;\n",
              "                                  &#x27;media without a specific purpose?&#x27;,\n",
              "                                  &#x27;How often do you get distracted by Social &#x27;\n",
              "                                  &#x27;media when you are busy doing something?&#x27;,\n",
              "                                  &quot;Do you feel restless if you haven&#x27;t used &quot;\n",
              "                                  &#x27;Social media in a while?&#x27;,\n",
              "                                  &#x27;On a scale of 1 to 5, how easily distracted &#x27;\n",
              "                                  &#x27;are you?&#x27;,\n",
              "                                  &#x27;On a scale of 1 to 5, ho...\n",
              "                                (&#x27;onehotencoder&#x27;,\n",
              "                                 OneHotEncoder(handle_unknown=&#x27;ignore&#x27;),\n",
              "                                 [&#x27;Gender&#x27;, &#x27;Relationship Status&#x27;,\n",
              "                                  &#x27;Occupation Status&#x27;,\n",
              "                                  &#x27;Do you use social media?&#x27;,\n",
              "                                  &#x27;What is the average time you spend on &#x27;\n",
              "                                  &#x27;social media every day?&#x27;]),\n",
              "                                (&#x27;countvectorizer-1&#x27;, CountVectorizer(),\n",
              "                                 &#x27;What type of organizations are you &#x27;\n",
              "                                 &#x27;affiliated with?&#x27;),\n",
              "                                (&#x27;countvectorizer-2&#x27;, CountVectorizer(),\n",
              "                                 &#x27;What social media platforms do you commonly &#x27;\n",
              "                                 &#x27;use?&#x27;)])</pre><b>In a Jupyter environment, please rerun this cell to show the HTML representation or trust the notebook. <br />On GitHub, the HTML representation is unable to render, please try loading this page with nbviewer.org.</b></div><div class=\"sk-container\" hidden><div class=\"sk-item sk-dashed-wrapped\"><div class=\"sk-label-container\"><div class=\"sk-label sk-toggleable\"><input class=\"sk-toggleable__control sk-hidden--visually\" id=\"sk-estimator-id-1\" type=\"checkbox\" ><label for=\"sk-estimator-id-1\" class=\"sk-toggleable__label sk-toggleable__label-arrow\">ColumnTransformer</label><div class=\"sk-toggleable__content\"><pre>ColumnTransformer(transformers=[(&#x27;standardscaler&#x27;, StandardScaler(),\n",
              "                                 [&#x27;What is your age?&#x27;,\n",
              "                                  &#x27;How often do you find yourself using Social &#x27;\n",
              "                                  &#x27;media without a specific purpose?&#x27;,\n",
              "                                  &#x27;How often do you get distracted by Social &#x27;\n",
              "                                  &#x27;media when you are busy doing something?&#x27;,\n",
              "                                  &quot;Do you feel restless if you haven&#x27;t used &quot;\n",
              "                                  &#x27;Social media in a while?&#x27;,\n",
              "                                  &#x27;On a scale of 1 to 5, how easily distracted &#x27;\n",
              "                                  &#x27;are you?&#x27;,\n",
              "                                  &#x27;On a scale of 1 to 5, ho...\n",
              "                                (&#x27;onehotencoder&#x27;,\n",
              "                                 OneHotEncoder(handle_unknown=&#x27;ignore&#x27;),\n",
              "                                 [&#x27;Gender&#x27;, &#x27;Relationship Status&#x27;,\n",
              "                                  &#x27;Occupation Status&#x27;,\n",
              "                                  &#x27;Do you use social media?&#x27;,\n",
              "                                  &#x27;What is the average time you spend on &#x27;\n",
              "                                  &#x27;social media every day?&#x27;]),\n",
              "                                (&#x27;countvectorizer-1&#x27;, CountVectorizer(),\n",
              "                                 &#x27;What type of organizations are you &#x27;\n",
              "                                 &#x27;affiliated with?&#x27;),\n",
              "                                (&#x27;countvectorizer-2&#x27;, CountVectorizer(),\n",
              "                                 &#x27;What social media platforms do you commonly &#x27;\n",
              "                                 &#x27;use?&#x27;)])</pre></div></div></div><div class=\"sk-parallel\"><div class=\"sk-parallel-item\"><div class=\"sk-item\"><div class=\"sk-label-container\"><div class=\"sk-label sk-toggleable\"><input class=\"sk-toggleable__control sk-hidden--visually\" id=\"sk-estimator-id-2\" type=\"checkbox\" ><label for=\"sk-estimator-id-2\" class=\"sk-toggleable__label sk-toggleable__label-arrow\">standardscaler</label><div class=\"sk-toggleable__content\"><pre>[&#x27;What is your age?&#x27;, &#x27;How often do you find yourself using Social media without a specific purpose?&#x27;, &#x27;How often do you get distracted by Social media when you are busy doing something?&#x27;, &quot;Do you feel restless if you haven&#x27;t used Social media in a while?&quot;, &#x27;On a scale of 1 to 5, how easily distracted are you?&#x27;, &#x27;On a scale of 1 to 5, how much are you bothered by worries?&#x27;, &#x27;Do you find it difficult to concentrate on things?&#x27;, &#x27;On a scale of 1-5, how often do you compare yourself to other successful people through the use of social media?&#x27;, &#x27;Following the previous question, how do you feel about these comparisons, generally speaking?&#x27;, &#x27;How often do you look to seek validation from features of social media?&#x27;, &#x27;On a scale of 1 to 5, how frequently does your interest in daily activities fluctuate?&#x27;, &#x27;On a scale of 1 to 5, how often do you face issues regarding sleep?&#x27;]</pre></div></div></div><div class=\"sk-serial\"><div class=\"sk-item\"><div class=\"sk-estimator sk-toggleable\"><input class=\"sk-toggleable__control sk-hidden--visually\" id=\"sk-estimator-id-3\" type=\"checkbox\" ><label for=\"sk-estimator-id-3\" class=\"sk-toggleable__label sk-toggleable__label-arrow\">StandardScaler</label><div class=\"sk-toggleable__content\"><pre>StandardScaler()</pre></div></div></div></div></div></div><div class=\"sk-parallel-item\"><div class=\"sk-item\"><div class=\"sk-label-container\"><div class=\"sk-label sk-toggleable\"><input class=\"sk-toggleable__control sk-hidden--visually\" id=\"sk-estimator-id-4\" type=\"checkbox\" ><label for=\"sk-estimator-id-4\" class=\"sk-toggleable__label sk-toggleable__label-arrow\">onehotencoder</label><div class=\"sk-toggleable__content\"><pre>[&#x27;Gender&#x27;, &#x27;Relationship Status&#x27;, &#x27;Occupation Status&#x27;, &#x27;Do you use social media?&#x27;, &#x27;What is the average time you spend on social media every day?&#x27;]</pre></div></div></div><div class=\"sk-serial\"><div class=\"sk-item\"><div class=\"sk-estimator sk-toggleable\"><input class=\"sk-toggleable__control sk-hidden--visually\" id=\"sk-estimator-id-5\" type=\"checkbox\" ><label for=\"sk-estimator-id-5\" class=\"sk-toggleable__label sk-toggleable__label-arrow\">OneHotEncoder</label><div class=\"sk-toggleable__content\"><pre>OneHotEncoder(handle_unknown=&#x27;ignore&#x27;)</pre></div></div></div></div></div></div><div class=\"sk-parallel-item\"><div class=\"sk-item\"><div class=\"sk-label-container\"><div class=\"sk-label sk-toggleable\"><input class=\"sk-toggleable__control sk-hidden--visually\" id=\"sk-estimator-id-6\" type=\"checkbox\" ><label for=\"sk-estimator-id-6\" class=\"sk-toggleable__label sk-toggleable__label-arrow\">countvectorizer-1</label><div class=\"sk-toggleable__content\"><pre>What type of organizations are you affiliated with?</pre></div></div></div><div class=\"sk-serial\"><div class=\"sk-item\"><div class=\"sk-estimator sk-toggleable\"><input class=\"sk-toggleable__control sk-hidden--visually\" id=\"sk-estimator-id-7\" type=\"checkbox\" ><label for=\"sk-estimator-id-7\" class=\"sk-toggleable__label sk-toggleable__label-arrow\">CountVectorizer</label><div class=\"sk-toggleable__content\"><pre>CountVectorizer()</pre></div></div></div></div></div></div><div class=\"sk-parallel-item\"><div class=\"sk-item\"><div class=\"sk-label-container\"><div class=\"sk-label sk-toggleable\"><input class=\"sk-toggleable__control sk-hidden--visually\" id=\"sk-estimator-id-8\" type=\"checkbox\" ><label for=\"sk-estimator-id-8\" class=\"sk-toggleable__label sk-toggleable__label-arrow\">countvectorizer-2</label><div class=\"sk-toggleable__content\"><pre>What social media platforms do you commonly use?</pre></div></div></div><div class=\"sk-serial\"><div class=\"sk-item\"><div class=\"sk-estimator sk-toggleable\"><input class=\"sk-toggleable__control sk-hidden--visually\" id=\"sk-estimator-id-9\" type=\"checkbox\" ><label for=\"sk-estimator-id-9\" class=\"sk-toggleable__label sk-toggleable__label-arrow\">CountVectorizer</label><div class=\"sk-toggleable__content\"><pre>CountVectorizer()</pre></div></div></div></div></div></div></div></div></div></div>"
            ]
          },
          "metadata": {},
          "execution_count": 51
        }
      ]
    },
    {
      "cell_type": "code",
      "source": [
        "lr"
      ],
      "metadata": {
        "colab": {
          "base_uri": "https://localhost:8080/",
          "height": 74
        },
        "id": "zO9twO6EWUGo",
        "outputId": "3ff68b30-5457-473d-a9fc-e8e4d959e770"
      },
      "execution_count": null,
      "outputs": [
        {
          "output_type": "execute_result",
          "data": {
            "text/plain": [
              "LogisticRegression(class_weight='balanced', n_jobs=-1)"
            ],
            "text/html": [
              "<style>#sk-container-id-2 {color: black;background-color: white;}#sk-container-id-2 pre{padding: 0;}#sk-container-id-2 div.sk-toggleable {background-color: white;}#sk-container-id-2 label.sk-toggleable__label {cursor: pointer;display: block;width: 100%;margin-bottom: 0;padding: 0.3em;box-sizing: border-box;text-align: center;}#sk-container-id-2 label.sk-toggleable__label-arrow:before {content: \"▸\";float: left;margin-right: 0.25em;color: #696969;}#sk-container-id-2 label.sk-toggleable__label-arrow:hover:before {color: black;}#sk-container-id-2 div.sk-estimator:hover label.sk-toggleable__label-arrow:before {color: black;}#sk-container-id-2 div.sk-toggleable__content {max-height: 0;max-width: 0;overflow: hidden;text-align: left;background-color: #f0f8ff;}#sk-container-id-2 div.sk-toggleable__content pre {margin: 0.2em;color: black;border-radius: 0.25em;background-color: #f0f8ff;}#sk-container-id-2 input.sk-toggleable__control:checked~div.sk-toggleable__content {max-height: 200px;max-width: 100%;overflow: auto;}#sk-container-id-2 input.sk-toggleable__control:checked~label.sk-toggleable__label-arrow:before {content: \"▾\";}#sk-container-id-2 div.sk-estimator input.sk-toggleable__control:checked~label.sk-toggleable__label {background-color: #d4ebff;}#sk-container-id-2 div.sk-label input.sk-toggleable__control:checked~label.sk-toggleable__label {background-color: #d4ebff;}#sk-container-id-2 input.sk-hidden--visually {border: 0;clip: rect(1px 1px 1px 1px);clip: rect(1px, 1px, 1px, 1px);height: 1px;margin: -1px;overflow: hidden;padding: 0;position: absolute;width: 1px;}#sk-container-id-2 div.sk-estimator {font-family: monospace;background-color: #f0f8ff;border: 1px dotted black;border-radius: 0.25em;box-sizing: border-box;margin-bottom: 0.5em;}#sk-container-id-2 div.sk-estimator:hover {background-color: #d4ebff;}#sk-container-id-2 div.sk-parallel-item::after {content: \"\";width: 100%;border-bottom: 1px solid gray;flex-grow: 1;}#sk-container-id-2 div.sk-label:hover label.sk-toggleable__label {background-color: #d4ebff;}#sk-container-id-2 div.sk-serial::before {content: \"\";position: absolute;border-left: 1px solid gray;box-sizing: border-box;top: 0;bottom: 0;left: 50%;z-index: 0;}#sk-container-id-2 div.sk-serial {display: flex;flex-direction: column;align-items: center;background-color: white;padding-right: 0.2em;padding-left: 0.2em;position: relative;}#sk-container-id-2 div.sk-item {position: relative;z-index: 1;}#sk-container-id-2 div.sk-parallel {display: flex;align-items: stretch;justify-content: center;background-color: white;position: relative;}#sk-container-id-2 div.sk-item::before, #sk-container-id-2 div.sk-parallel-item::before {content: \"\";position: absolute;border-left: 1px solid gray;box-sizing: border-box;top: 0;bottom: 0;left: 50%;z-index: -1;}#sk-container-id-2 div.sk-parallel-item {display: flex;flex-direction: column;z-index: 1;position: relative;background-color: white;}#sk-container-id-2 div.sk-parallel-item:first-child::after {align-self: flex-end;width: 50%;}#sk-container-id-2 div.sk-parallel-item:last-child::after {align-self: flex-start;width: 50%;}#sk-container-id-2 div.sk-parallel-item:only-child::after {width: 0;}#sk-container-id-2 div.sk-dashed-wrapped {border: 1px dashed gray;margin: 0 0.4em 0.5em 0.4em;box-sizing: border-box;padding-bottom: 0.4em;background-color: white;}#sk-container-id-2 div.sk-label label {font-family: monospace;font-weight: bold;display: inline-block;line-height: 1.2em;}#sk-container-id-2 div.sk-label-container {text-align: center;}#sk-container-id-2 div.sk-container {/* jupyter's `normalize.less` sets `[hidden] { display: none; }` but bootstrap.min.css set `[hidden] { display: none !important; }` so we also need the `!important` here to be able to override the default hidden behavior on the sphinx rendered scikit-learn.org. See: https://github.com/scikit-learn/scikit-learn/issues/21755 */display: inline-block !important;position: relative;}#sk-container-id-2 div.sk-text-repr-fallback {display: none;}</style><div id=\"sk-container-id-2\" class=\"sk-top-container\"><div class=\"sk-text-repr-fallback\"><pre>LogisticRegression(class_weight=&#x27;balanced&#x27;, n_jobs=-1)</pre><b>In a Jupyter environment, please rerun this cell to show the HTML representation or trust the notebook. <br />On GitHub, the HTML representation is unable to render, please try loading this page with nbviewer.org.</b></div><div class=\"sk-container\" hidden><div class=\"sk-item\"><div class=\"sk-estimator sk-toggleable\"><input class=\"sk-toggleable__control sk-hidden--visually\" id=\"sk-estimator-id-10\" type=\"checkbox\" checked><label for=\"sk-estimator-id-10\" class=\"sk-toggleable__label sk-toggleable__label-arrow\">LogisticRegression</label><div class=\"sk-toggleable__content\"><pre>LogisticRegression(class_weight=&#x27;balanced&#x27;, n_jobs=-1)</pre></div></div></div></div></div>"
            ]
          },
          "metadata": {},
          "execution_count": 52
        }
      ]
    },
    {
      "cell_type": "code",
      "source": [
        "from sklearn.pipeline import make_pipeline\n",
        "import joblib\n",
        "pipeline = make_pipeline(column_transformer, rfc)\n",
        "joblib.dump(pipeline, 'lr_pipeline.joblib')"
      ],
      "metadata": {
        "colab": {
          "base_uri": "https://localhost:8080/"
        },
        "id": "TSuYuiiRWQpO",
        "outputId": "2c4eb060-67ee-40a7-e9e6-b7fe7bead405"
      },
      "execution_count": null,
      "outputs": [
        {
          "output_type": "execute_result",
          "data": {
            "text/plain": [
              "['lr_pipeline.joblib']"
            ]
          },
          "metadata": {},
          "execution_count": 53
        }
      ]
    },
    {
      "cell_type": "code",
      "source": [
        "import pandas as pd\n",
        "import numpy as np\n",
        "\n",
        "def predict_social_media_impact(params_dict, model_pipeline):\n",
        "    data = pd.DataFrame(params_dict, index=[0])\n",
        "    predictions = pipeline.predict(data)\n",
        "    prob = pipeline.predict_proba(data)\n",
        "    return predictions[0],np.max(prob)"
      ],
      "metadata": {
        "id": "2a_YtEAPDvFU"
      },
      "execution_count": null,
      "outputs": []
    },
    {
      "cell_type": "code",
      "source": [
        "params_dict = {'What is your age?': 21.0,\n",
        " 'Gender': 'Male',\n",
        " 'Relationship Status': 'In a relationship',\n",
        " 'Occupation Status': 'University Student',\n",
        " 'What type of organizations are you affiliated with?': 'University',\n",
        " 'Do you use social media?': 'Yes',\n",
        " 'What social media platforms do you commonly use?': 'Facebook, Twitter, Instagram, YouTube, Discord, Reddit',\n",
        " 'What is the average time you spend on social media every day?': '2-3 hours',\n",
        " 'How often do you find yourself using Social media without a specific purpose?': 5,\n",
        " 'How often do you get distracted by Social media when you are busy doing something?': 3,\n",
        " \"Do you feel restless if you haven't used Social media in a while?\": 2,\n",
        " 'On a scale of 1 to 5, how easily distracted are you?': 5,\n",
        " 'On a scale of 1 to 5, how much are you bothered by worries?': 2,\n",
        " 'Do you find it difficult to concentrate on things?': 5,\n",
        " 'On a scale of 1-5, how often do you compare yourself to other successful people through the use of social media?': 2,\n",
        " 'Following the previous question, how do you feel about these comparisons, generally speaking?': 3,\n",
        " 'How often do you look to seek validation from features of social media?': 2,\n",
        " 'On a scale of 1 to 5, how frequently does your interest in daily activities fluctuate?': 4,\n",
        " 'On a scale of 1 to 5, how often do you face issues regarding sleep?': 5}"
      ],
      "metadata": {
        "id": "kVz8MCyAEMQB"
      },
      "execution_count": null,
      "outputs": []
    },
    {
      "cell_type": "code",
      "source": [
        "predictions = predict_social_media_impact(params_dict=params_dict, model_pipeline=pipeline)\n",
        "print(predictions)"
      ],
      "metadata": {
        "colab": {
          "base_uri": "https://localhost:8080/"
        },
        "id": "w9-rJhyREcGA",
        "outputId": "35e7ba90-66e9-40d3-efdd-c24b6eac7187"
      },
      "execution_count": null,
      "outputs": [
        {
          "output_type": "stream",
          "name": "stdout",
          "text": [
            "('Yes', 0.87)\n"
          ]
        }
      ]
    },
    {
      "cell_type": "code",
      "source": [],
      "metadata": {
        "id": "xpHYoxbuZ8sP"
      },
      "execution_count": null,
      "outputs": []
    }
  ]
}